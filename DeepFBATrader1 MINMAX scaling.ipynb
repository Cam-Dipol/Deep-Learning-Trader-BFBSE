{
 "cells": [
  {
   "cell_type": "markdown",
   "id": "7998c36e",
   "metadata": {},
   "source": [
    "### Deep FBA Trader model creation"
   ]
  },
  {
   "cell_type": "code",
   "execution_count": 1,
   "id": "02be7394",
   "metadata": {},
   "outputs": [],
   "source": [
    "import pandas as pd\n",
    "from sklearn.model_selection import train_test_split\n",
    "from sklearn.preprocessing import StandardScaler\n",
    "from sklearn.preprocessing import MinMaxScaler\n",
    "import tensorflow as tf\n",
    "from tensorflow.keras.models import Sequential\n",
    "from tensorflow.keras.layers import LSTM, Dense, InputLayer\n",
    "from tensorflow.keras.utils import Sequence\n",
    "import numpy as np\n",
    "import matplotlib.pyplot as plt\n",
    "import joblib\n",
    "import os"
   ]
  },
  {
   "cell_type": "markdown",
   "id": "4e4d2ff8",
   "metadata": {},
   "source": [
    "Combining training data into one csv file"
   ]
  },
  {
   "cell_type": "code",
   "execution_count": null,
   "id": "68459e49",
   "metadata": {
    "scrolled": false
   },
   "outputs": [],
   "source": [
    "root_folder_path = 'C:/Users/camer/Documents/Masters Thesis/Data/Training data/'\n",
    "specific_folder = '1 sec batch full trading day'\n",
    "folder_path = root_folder_path + specific_folder\n",
    "\n",
    "data_sets = []\n",
    "\n",
    "for filename in os.listdir(folder_path):\n",
    "    if filename.endswith(\".csv\"):\n",
    "        file_path = os.path.join(folder_path, filename)\n",
    "        data_set = pd.read_csv(file_path)\n",
    "        data_sets.append(data_set)\n",
    "\n",
    "large_csv = pd.concat(data_sets, ignore_index=True)\n",
    "large_csv.to_csv(f'{folder_path}/all_data.csv', index=False)\n",
    "training_data = large_csv\n",
    "training_data"
   ]
  },
  {
   "cell_type": "markdown",
   "id": "b30210c1",
   "metadata": {},
   "source": [
    "Fitting the scaler for normalisation"
   ]
  },
  {
   "cell_type": "code",
   "execution_count": 2,
   "id": "b3adcb42",
   "metadata": {},
   "outputs": [],
   "source": [
    "folder_path = 'C:/Users/camer/Documents/Masters Thesis/Data/Training data/1 sec batch full trading day'\n",
    "\n",
    "training_files = [os.path.join(folder_path, f) for f in os.listdir(folder_path) if f.endswith('.csv')]\n"
   ]
  },
  {
   "cell_type": "code",
   "execution_count": 13,
   "id": "c2d38b80",
   "metadata": {
    "scrolled": true
   },
   "outputs": [
    {
     "ename": "KeyboardInterrupt",
     "evalue": "",
     "output_type": "error",
     "traceback": [
      "\u001b[1;31m---------------------------------------------------------------------------\u001b[0m",
      "\u001b[1;31mKeyboardInterrupt\u001b[0m                         Traceback (most recent call last)",
      "Cell \u001b[1;32mIn[13], line 5\u001b[0m\n\u001b[0;32m      2\u001b[0m output_scaler \u001b[38;5;241m=\u001b[39m MinMaxScaler()\n\u001b[0;32m      4\u001b[0m \u001b[38;5;28;01mfor\u001b[39;00m file \u001b[38;5;129;01min\u001b[39;00m training_files:\n\u001b[1;32m----> 5\u001b[0m     \u001b[38;5;28;01mfor\u001b[39;00m chunk \u001b[38;5;129;01min\u001b[39;00m pd\u001b[38;5;241m.\u001b[39mread_csv(file, chunksize\u001b[38;5;241m=\u001b[39m\u001b[38;5;241m32768\u001b[39m):\n\u001b[0;32m      6\u001b[0m         X \u001b[38;5;241m=\u001b[39m chunk\u001b[38;5;241m.\u001b[39mdrop(columns\u001b[38;5;241m=\u001b[39m[\u001b[38;5;124m'\u001b[39m\u001b[38;5;124mtime_of_trade\u001b[39m\u001b[38;5;124m'\u001b[39m, \u001b[38;5;124m'\u001b[39m\u001b[38;5;124mfinal_trade_price\u001b[39m\u001b[38;5;124m'\u001b[39m])\u001b[38;5;241m.\u001b[39mvalues\n\u001b[0;32m      7\u001b[0m         y \u001b[38;5;241m=\u001b[39m chunk[[\u001b[38;5;124m'\u001b[39m\u001b[38;5;124mfinal_trade_price\u001b[39m\u001b[38;5;124m'\u001b[39m]]\u001b[38;5;241m.\u001b[39mvalues\n",
      "File \u001b[1;32mC:\\ProgramData\\anaconda3\\Lib\\site-packages\\pandas\\io\\parsers\\readers.py:1624\u001b[0m, in \u001b[0;36mTextFileReader.__next__\u001b[1;34m(self)\u001b[0m\n\u001b[0;32m   1622\u001b[0m \u001b[38;5;28;01mdef\u001b[39;00m \u001b[38;5;21m__next__\u001b[39m(\u001b[38;5;28mself\u001b[39m) \u001b[38;5;241m-\u001b[39m\u001b[38;5;241m>\u001b[39m DataFrame:\n\u001b[0;32m   1623\u001b[0m     \u001b[38;5;28;01mtry\u001b[39;00m:\n\u001b[1;32m-> 1624\u001b[0m         \u001b[38;5;28;01mreturn\u001b[39;00m \u001b[38;5;28mself\u001b[39m\u001b[38;5;241m.\u001b[39mget_chunk()\n\u001b[0;32m   1625\u001b[0m     \u001b[38;5;28;01mexcept\u001b[39;00m \u001b[38;5;167;01mStopIteration\u001b[39;00m:\n\u001b[0;32m   1626\u001b[0m         \u001b[38;5;28mself\u001b[39m\u001b[38;5;241m.\u001b[39mclose()\n",
      "File \u001b[1;32mC:\\ProgramData\\anaconda3\\Lib\\site-packages\\pandas\\io\\parsers\\readers.py:1733\u001b[0m, in \u001b[0;36mTextFileReader.get_chunk\u001b[1;34m(self, size)\u001b[0m\n\u001b[0;32m   1731\u001b[0m         \u001b[38;5;28;01mraise\u001b[39;00m \u001b[38;5;167;01mStopIteration\u001b[39;00m\n\u001b[0;32m   1732\u001b[0m     size \u001b[38;5;241m=\u001b[39m \u001b[38;5;28mmin\u001b[39m(size, \u001b[38;5;28mself\u001b[39m\u001b[38;5;241m.\u001b[39mnrows \u001b[38;5;241m-\u001b[39m \u001b[38;5;28mself\u001b[39m\u001b[38;5;241m.\u001b[39m_currow)\n\u001b[1;32m-> 1733\u001b[0m \u001b[38;5;28;01mreturn\u001b[39;00m \u001b[38;5;28mself\u001b[39m\u001b[38;5;241m.\u001b[39mread(nrows\u001b[38;5;241m=\u001b[39msize)\n",
      "File \u001b[1;32mC:\\ProgramData\\anaconda3\\Lib\\site-packages\\pandas\\io\\parsers\\readers.py:1721\u001b[0m, in \u001b[0;36mTextFileReader.read\u001b[1;34m(self, nrows)\u001b[0m\n\u001b[0;32m   1718\u001b[0m     \u001b[38;5;28;01melse\u001b[39;00m:\n\u001b[0;32m   1719\u001b[0m         new_rows \u001b[38;5;241m=\u001b[39m \u001b[38;5;28mlen\u001b[39m(index)\n\u001b[1;32m-> 1721\u001b[0m     df \u001b[38;5;241m=\u001b[39m DataFrame(col_dict, columns\u001b[38;5;241m=\u001b[39mcolumns, index\u001b[38;5;241m=\u001b[39mindex)\n\u001b[0;32m   1723\u001b[0m     \u001b[38;5;28mself\u001b[39m\u001b[38;5;241m.\u001b[39m_currow \u001b[38;5;241m+\u001b[39m\u001b[38;5;241m=\u001b[39m new_rows\n\u001b[0;32m   1724\u001b[0m \u001b[38;5;28;01mreturn\u001b[39;00m df\n",
      "File \u001b[1;32mC:\\ProgramData\\anaconda3\\Lib\\site-packages\\pandas\\core\\frame.py:709\u001b[0m, in \u001b[0;36mDataFrame.__init__\u001b[1;34m(self, data, index, columns, dtype, copy)\u001b[0m\n\u001b[0;32m    703\u001b[0m     mgr \u001b[38;5;241m=\u001b[39m \u001b[38;5;28mself\u001b[39m\u001b[38;5;241m.\u001b[39m_init_mgr(\n\u001b[0;32m    704\u001b[0m         data, axes\u001b[38;5;241m=\u001b[39m{\u001b[38;5;124m\"\u001b[39m\u001b[38;5;124mindex\u001b[39m\u001b[38;5;124m\"\u001b[39m: index, \u001b[38;5;124m\"\u001b[39m\u001b[38;5;124mcolumns\u001b[39m\u001b[38;5;124m\"\u001b[39m: columns}, dtype\u001b[38;5;241m=\u001b[39mdtype, copy\u001b[38;5;241m=\u001b[39mcopy\n\u001b[0;32m    705\u001b[0m     )\n\u001b[0;32m    707\u001b[0m \u001b[38;5;28;01melif\u001b[39;00m \u001b[38;5;28misinstance\u001b[39m(data, \u001b[38;5;28mdict\u001b[39m):\n\u001b[0;32m    708\u001b[0m     \u001b[38;5;66;03m# GH#38939 de facto copy defaults to False only in non-dict cases\u001b[39;00m\n\u001b[1;32m--> 709\u001b[0m     mgr \u001b[38;5;241m=\u001b[39m dict_to_mgr(data, index, columns, dtype\u001b[38;5;241m=\u001b[39mdtype, copy\u001b[38;5;241m=\u001b[39mcopy, typ\u001b[38;5;241m=\u001b[39mmanager)\n\u001b[0;32m    710\u001b[0m \u001b[38;5;28;01melif\u001b[39;00m \u001b[38;5;28misinstance\u001b[39m(data, ma\u001b[38;5;241m.\u001b[39mMaskedArray):\n\u001b[0;32m    711\u001b[0m     \u001b[38;5;28;01mfrom\u001b[39;00m \u001b[38;5;21;01mnumpy\u001b[39;00m\u001b[38;5;21;01m.\u001b[39;00m\u001b[38;5;21;01mma\u001b[39;00m \u001b[38;5;28;01mimport\u001b[39;00m mrecords\n",
      "File \u001b[1;32mC:\\ProgramData\\anaconda3\\Lib\\site-packages\\pandas\\core\\internals\\construction.py:481\u001b[0m, in \u001b[0;36mdict_to_mgr\u001b[1;34m(data, index, columns, dtype, typ, copy)\u001b[0m\n\u001b[0;32m    477\u001b[0m     \u001b[38;5;28;01melse\u001b[39;00m:\n\u001b[0;32m    478\u001b[0m         \u001b[38;5;66;03m# dtype check to exclude e.g. range objects, scalars\u001b[39;00m\n\u001b[0;32m    479\u001b[0m         arrays \u001b[38;5;241m=\u001b[39m [x\u001b[38;5;241m.\u001b[39mcopy() \u001b[38;5;28;01mif\u001b[39;00m \u001b[38;5;28mhasattr\u001b[39m(x, \u001b[38;5;124m\"\u001b[39m\u001b[38;5;124mdtype\u001b[39m\u001b[38;5;124m\"\u001b[39m) \u001b[38;5;28;01melse\u001b[39;00m x \u001b[38;5;28;01mfor\u001b[39;00m x \u001b[38;5;129;01min\u001b[39;00m arrays]\n\u001b[1;32m--> 481\u001b[0m \u001b[38;5;28;01mreturn\u001b[39;00m arrays_to_mgr(arrays, columns, index, dtype\u001b[38;5;241m=\u001b[39mdtype, typ\u001b[38;5;241m=\u001b[39mtyp, consolidate\u001b[38;5;241m=\u001b[39mcopy)\n",
      "File \u001b[1;32mC:\\ProgramData\\anaconda3\\Lib\\site-packages\\pandas\\core\\internals\\construction.py:153\u001b[0m, in \u001b[0;36marrays_to_mgr\u001b[1;34m(arrays, columns, index, dtype, verify_integrity, typ, consolidate)\u001b[0m\n\u001b[0;32m    150\u001b[0m axes \u001b[38;5;241m=\u001b[39m [columns, index]\n\u001b[0;32m    152\u001b[0m \u001b[38;5;28;01mif\u001b[39;00m typ \u001b[38;5;241m==\u001b[39m \u001b[38;5;124m\"\u001b[39m\u001b[38;5;124mblock\u001b[39m\u001b[38;5;124m\"\u001b[39m:\n\u001b[1;32m--> 153\u001b[0m     \u001b[38;5;28;01mreturn\u001b[39;00m create_block_manager_from_column_arrays(\n\u001b[0;32m    154\u001b[0m         arrays, axes, consolidate\u001b[38;5;241m=\u001b[39mconsolidate, refs\u001b[38;5;241m=\u001b[39mrefs\n\u001b[0;32m    155\u001b[0m     )\n\u001b[0;32m    156\u001b[0m \u001b[38;5;28;01melif\u001b[39;00m typ \u001b[38;5;241m==\u001b[39m \u001b[38;5;124m\"\u001b[39m\u001b[38;5;124marray\u001b[39m\u001b[38;5;124m\"\u001b[39m:\n\u001b[0;32m    157\u001b[0m     \u001b[38;5;28;01mreturn\u001b[39;00m ArrayManager(arrays, [index, columns])\n",
      "File \u001b[1;32mC:\\ProgramData\\anaconda3\\Lib\\site-packages\\pandas\\core\\internals\\managers.py:2142\u001b[0m, in \u001b[0;36mcreate_block_manager_from_column_arrays\u001b[1;34m(arrays, axes, consolidate, refs)\u001b[0m\n\u001b[0;32m   2140\u001b[0m     raise_construction_error(\u001b[38;5;28mlen\u001b[39m(arrays), arrays[\u001b[38;5;241m0\u001b[39m]\u001b[38;5;241m.\u001b[39mshape, axes, e)\n\u001b[0;32m   2141\u001b[0m \u001b[38;5;28;01mif\u001b[39;00m consolidate:\n\u001b[1;32m-> 2142\u001b[0m     mgr\u001b[38;5;241m.\u001b[39m_consolidate_inplace()\n\u001b[0;32m   2143\u001b[0m \u001b[38;5;28;01mreturn\u001b[39;00m mgr\n",
      "File \u001b[1;32mC:\\ProgramData\\anaconda3\\Lib\\site-packages\\pandas\\core\\internals\\managers.py:1829\u001b[0m, in \u001b[0;36mBlockManager._consolidate_inplace\u001b[1;34m(self)\u001b[0m\n\u001b[0;32m   1823\u001b[0m \u001b[38;5;28;01mdef\u001b[39;00m \u001b[38;5;21m_consolidate_inplace\u001b[39m(\u001b[38;5;28mself\u001b[39m) \u001b[38;5;241m-\u001b[39m\u001b[38;5;241m>\u001b[39m \u001b[38;5;28;01mNone\u001b[39;00m:\n\u001b[0;32m   1824\u001b[0m     \u001b[38;5;66;03m# In general, _consolidate_inplace should only be called via\u001b[39;00m\n\u001b[0;32m   1825\u001b[0m     \u001b[38;5;66;03m#  DataFrame._consolidate_inplace, otherwise we will fail to invalidate\u001b[39;00m\n\u001b[0;32m   1826\u001b[0m     \u001b[38;5;66;03m#  the DataFrame's _item_cache. The exception is for newly-created\u001b[39;00m\n\u001b[0;32m   1827\u001b[0m     \u001b[38;5;66;03m#  BlockManager objects not yet attached to a DataFrame.\u001b[39;00m\n\u001b[0;32m   1828\u001b[0m     \u001b[38;5;28;01mif\u001b[39;00m \u001b[38;5;129;01mnot\u001b[39;00m \u001b[38;5;28mself\u001b[39m\u001b[38;5;241m.\u001b[39mis_consolidated():\n\u001b[1;32m-> 1829\u001b[0m         \u001b[38;5;28mself\u001b[39m\u001b[38;5;241m.\u001b[39mblocks \u001b[38;5;241m=\u001b[39m _consolidate(\u001b[38;5;28mself\u001b[39m\u001b[38;5;241m.\u001b[39mblocks)\n\u001b[0;32m   1830\u001b[0m         \u001b[38;5;28mself\u001b[39m\u001b[38;5;241m.\u001b[39m_is_consolidated \u001b[38;5;241m=\u001b[39m \u001b[38;5;28;01mTrue\u001b[39;00m\n\u001b[0;32m   1831\u001b[0m         \u001b[38;5;28mself\u001b[39m\u001b[38;5;241m.\u001b[39m_known_consolidated \u001b[38;5;241m=\u001b[39m \u001b[38;5;28;01mTrue\u001b[39;00m\n",
      "File \u001b[1;32mC:\\ProgramData\\anaconda3\\Lib\\site-packages\\pandas\\core\\internals\\managers.py:2272\u001b[0m, in \u001b[0;36m_consolidate\u001b[1;34m(blocks)\u001b[0m\n\u001b[0;32m   2270\u001b[0m new_blocks: \u001b[38;5;28mlist\u001b[39m[Block] \u001b[38;5;241m=\u001b[39m []\n\u001b[0;32m   2271\u001b[0m \u001b[38;5;28;01mfor\u001b[39;00m (_can_consolidate, dtype), group_blocks \u001b[38;5;129;01min\u001b[39;00m grouper:\n\u001b[1;32m-> 2272\u001b[0m     merged_blocks, _ \u001b[38;5;241m=\u001b[39m _merge_blocks(\n\u001b[0;32m   2273\u001b[0m         \u001b[38;5;28mlist\u001b[39m(group_blocks), dtype\u001b[38;5;241m=\u001b[39mdtype, can_consolidate\u001b[38;5;241m=\u001b[39m_can_consolidate\n\u001b[0;32m   2274\u001b[0m     )\n\u001b[0;32m   2275\u001b[0m     new_blocks \u001b[38;5;241m=\u001b[39m extend_blocks(merged_blocks, new_blocks)\n\u001b[0;32m   2276\u001b[0m \u001b[38;5;28;01mreturn\u001b[39;00m \u001b[38;5;28mtuple\u001b[39m(new_blocks)\n",
      "File \u001b[1;32mC:\\ProgramData\\anaconda3\\Lib\\site-packages\\pandas\\core\\internals\\managers.py:2307\u001b[0m, in \u001b[0;36m_merge_blocks\u001b[1;34m(blocks, dtype, can_consolidate)\u001b[0m\n\u001b[0;32m   2304\u001b[0m     new_values \u001b[38;5;241m=\u001b[39m new_values[argsort]\n\u001b[0;32m   2305\u001b[0m     new_mgr_locs \u001b[38;5;241m=\u001b[39m new_mgr_locs[argsort]\n\u001b[1;32m-> 2307\u001b[0m     bp \u001b[38;5;241m=\u001b[39m BlockPlacement(new_mgr_locs)\n\u001b[0;32m   2308\u001b[0m     \u001b[38;5;28;01mreturn\u001b[39;00m [new_block_2d(new_values, placement\u001b[38;5;241m=\u001b[39mbp)], \u001b[38;5;28;01mTrue\u001b[39;00m\n\u001b[0;32m   2310\u001b[0m \u001b[38;5;66;03m# can't consolidate --> no merge\u001b[39;00m\n",
      "\u001b[1;31mKeyboardInterrupt\u001b[0m: "
     ]
    }
   ],
   "source": [
    "input_scaler = MinMaxScaler()\n",
    "output_scaler = MinMaxScaler()\n",
    "\n",
    "for file in training_files:\n",
    "    for chunk in pd.read_csv(file, chunksize=32768):\n",
    "        X = chunk.drop(columns=['time_of_trade', 'final_trade_price']).values\n",
    "        y = chunk[['final_trade_price']].values\n",
    "        input_scaler.partial_fit(X)\n",
    "        output_scaler.partial_fit(y)\n",
    "\n",
    "input_scaler_filename = 'input_scaler_equil_predictor_minmax.joblib'\n",
    "output_scaler_filename = 'output_scaler_equil_predictor_minmax.joblib'\n",
    "joblib.dump(input_scaler, input_scaler_filename)\n",
    "joblib.dump(output_scaler, output_scaler_filename)"
   ]
  },
  {
   "cell_type": "code",
   "execution_count": 14,
   "id": "4b2d8aa8",
   "metadata": {},
   "outputs": [],
   "source": [
    "input_scaler = joblib.load('scalers/input_scaler_equil_predictor_minmax.joblib')\n",
    "output_scaler = joblib.load('scalers/output_scaler_equil_predictor_minmax.joblib')"
   ]
  },
  {
   "cell_type": "markdown",
   "id": "6f5f5c48",
   "metadata": {},
   "source": [
    "Creating data generator class to batch data for training"
   ]
  },
  {
   "cell_type": "code",
   "execution_count": 32,
   "id": "e21e2c5c",
   "metadata": {},
   "outputs": [],
   "source": []
  },
  {
   "cell_type": "code",
   "execution_count": 15,
   "id": "e550be10",
   "metadata": {},
   "outputs": [],
   "source": [
    "class DataGenerator(Sequence):\n",
    "    def __init__(self, training_files, batch_size=1024, input_scaler=None, output_scaler=None, shuffle=False):\n",
    "        self.training_files = training_files\n",
    "        self.batch_size = batch_size\n",
    "        self.input_scaler = input_scaler\n",
    "        self.output_scaler = output_scaler\n",
    "        self.shuffle = shuffle\n",
    "        self.current_file_idx = 0\n",
    "        self.load_next_file()\n",
    "        \n",
    "    def load_next_file(self):\n",
    "        if self.current_file_idx >= len(self.training_files):\n",
    "            self.current_file_idx = 0\n",
    "        self.current_file = self.training_files[self.current_file_idx]\n",
    "        self.data_iterator = pd.read_csv(self.current_file, chunksize=self.batch_size)\n",
    "\n",
    "    def __len__(self):\n",
    "        total_rows = sum([pd.read_csv(file, usecols=[0]).shape[0] for file in self.training_files])\n",
    "        return total_rows // self.batch_size\n",
    "\n",
    "    def __getitem__(self, index):\n",
    "        try:\n",
    "            chunk = next(self.data_iterator)\n",
    "        except StopIteration:\n",
    "            self.current_file_idx += 1\n",
    "            self.load_next_file()\n",
    "            chunk = next(self.data_iterator)\n",
    "\n",
    "        X_batch = chunk.drop(columns=['time_of_trade', 'final_trade_price']).values\n",
    "        y_batch = chunk['final_trade_price'].values\n",
    "\n",
    "        if self.input_scaler:\n",
    "            X_batch = self.input_scaler.transform(X_batch)\n",
    "        if self.output_scaler:\n",
    "            y_batch = self.output_scaler.transform(y_batch.reshape(-1, 1)).flatten()\n",
    "\n",
    "        X_batch = X_batch.reshape((-1, 1, X_batch.shape[1]))\n",
    "\n",
    "        return X_batch.astype(np.float16), y_batch.astype(np.float16)\n",
    "\n",
    "    def on_epoch_end(self):\n",
    "        if self.shuffle:\n",
    "            np.random.shuffle(self.training_files)\n",
    "        self.current_file_idx = 0\n",
    "        self.load_next_file()"
   ]
  },
  {
   "cell_type": "code",
   "execution_count": null,
   "id": "419d452c",
   "metadata": {},
   "outputs": [],
   "source": []
  },
  {
   "cell_type": "code",
   "execution_count": 21,
   "id": "7d1582b9",
   "metadata": {},
   "outputs": [],
   "source": [
    "train_files, test_files = train_test_split(training_files, test_size=0.1, random_state=42)\n",
    "\n",
    "train_generator = DataGenerator(train_files, batch_size=1024, input_scaler=input_scaler, output_scaler=output_scaler, shuffle=False)\n",
    "test_generator = DataGenerator(test_files, batch_size=1024, input_scaler=input_scaler, output_scaler=output_scaler, shuffle=False)\n",
    "\n",
    "# test_data_list = []\n",
    "\n",
    "# for test_file in test_files:\n",
    "#     test_data_sample = pd.read_csv(test_file)\n",
    "#     test_data_list.append(test_data_sample)\n",
    " \n",
    "# test_data = pd.concat(test_data_list, ignore_index=True)\n",
    "\n",
    "# X_test = test_data.drop(columns=['time_of_trade', 'final_trade_price']).values\n",
    "# y_test = test_data['final_trade_price'].values\n",
    "\n",
    "# X_test_scaled = scaler.transform(X_test)\n",
    "\n",
    "# X_test_scaled = X_test_scaled.reshape((X_test_scaled.shape[0], 1, X_test_scaled.shape[1]))\n"
   ]
  },
  {
   "cell_type": "code",
   "execution_count": null,
   "id": "8c2b8c71",
   "metadata": {},
   "outputs": [],
   "source": []
  },
  {
   "cell_type": "code",
   "execution_count": null,
   "id": "6ef5d7f9",
   "metadata": {},
   "outputs": [
    {
     "name": "stdout",
     "output_type": "stream",
     "text": [
      "Epoch 1/15\n"
     ]
    },
    {
     "name": "stderr",
     "output_type": "stream",
     "text": [
      "C:\\ProgramData\\anaconda3\\Lib\\site-packages\\keras\\src\\trainers\\data_adapters\\py_dataset_adapter.py:121: UserWarning: Your `PyDataset` class should call `super().__init__(**kwargs)` in its constructor. `**kwargs` can include `workers`, `use_multiprocessing`, `max_queue_size`. Do not pass these arguments to `fit()`, as they will be ignored.\n",
      "  self._warn_if_super_not_called()\n"
     ]
    },
    {
     "name": "stdout",
     "output_type": "stream",
     "text": [
      "\u001b[1m45220/45227\u001b[0m \u001b[32m━━━━━━━━━━━━━━━━━━━\u001b[0m\u001b[37m━\u001b[0m \u001b[1m0s\u001b[0m 10ms/step - loss: 0.0166"
     ]
    },
    {
     "name": "stderr",
     "output_type": "stream",
     "text": [
      "C:\\ProgramData\\anaconda3\\Lib\\site-packages\\keras\\src\\trainers\\data_adapters\\py_dataset_adapter.py:121: UserWarning: Your `PyDataset` class should call `super().__init__(**kwargs)` in its constructor. `**kwargs` can include `workers`, `use_multiprocessing`, `max_queue_size`. Do not pass these arguments to `fit()`, as they will be ignored.\n",
      "  self._warn_if_super_not_called()\n"
     ]
    },
    {
     "name": "stdout",
     "output_type": "stream",
     "text": [
      "\u001b[1m45227/45227\u001b[0m \u001b[32m━━━━━━━━━━━━━━━━━━━━\u001b[0m\u001b[37m\u001b[0m \u001b[1m649s\u001b[0m 13ms/step - loss: 0.0166 - val_loss: 0.0142\n",
      "Epoch 2/15\n",
      "\u001b[1m45227/45227\u001b[0m \u001b[32m━━━━━━━━━━━━━━━━━━━━\u001b[0m\u001b[37m\u001b[0m \u001b[1m574s\u001b[0m 12ms/step - loss: 0.0113 - val_loss: 0.0093\n",
      "Epoch 3/15\n",
      "\u001b[1m45227/45227\u001b[0m \u001b[32m━━━━━━━━━━━━━━━━━━━━\u001b[0m\u001b[37m\u001b[0m \u001b[1m632s\u001b[0m 12ms/step - loss: 0.0092 - val_loss: 0.0093\n",
      "Epoch 4/15\n",
      "\u001b[1m45227/45227\u001b[0m \u001b[32m━━━━━━━━━━━━━━━━━━━━\u001b[0m\u001b[37m\u001b[0m \u001b[1m683s\u001b[0m 13ms/step - loss: 0.0091 - val_loss: 0.0089\n",
      "Epoch 5/15\n",
      "\u001b[1m45227/45227\u001b[0m \u001b[32m━━━━━━━━━━━━━━━━━━━━\u001b[0m\u001b[37m\u001b[0m \u001b[1m603s\u001b[0m 12ms/step - loss: 0.0089 - val_loss: 0.0087\n",
      "Epoch 6/15\n",
      "\u001b[1m45227/45227\u001b[0m \u001b[32m━━━━━━━━━━━━━━━━━━━━\u001b[0m\u001b[37m\u001b[0m \u001b[1m649s\u001b[0m 13ms/step - loss: 0.0089 - val_loss: 0.0086\n",
      "Epoch 7/15\n",
      "\u001b[1m45227/45227\u001b[0m \u001b[32m━━━━━━━━━━━━━━━━━━━━\u001b[0m\u001b[37m\u001b[0m \u001b[1m566s\u001b[0m 11ms/step - loss: 0.0088 - val_loss: 0.0087\n",
      "Epoch 8/15\n",
      "\u001b[1m45227/45227\u001b[0m \u001b[32m━━━━━━━━━━━━━━━━━━━━\u001b[0m\u001b[37m\u001b[0m \u001b[1m647s\u001b[0m 13ms/step - loss: 0.0088 - val_loss: 0.0086\n",
      "Epoch 9/15\n",
      "\u001b[1m45227/45227\u001b[0m \u001b[32m━━━━━━━━━━━━━━━━━━━━\u001b[0m\u001b[37m\u001b[0m \u001b[1m590s\u001b[0m 11ms/step - loss: 0.0088 - val_loss: 0.0086\n",
      "Epoch 10/15\n",
      "\u001b[1m45227/45227\u001b[0m \u001b[32m━━━━━━━━━━━━━━━━━━━━\u001b[0m\u001b[37m\u001b[0m \u001b[1m652s\u001b[0m 13ms/step - loss: 0.0088 - val_loss: 0.0086\n",
      "Epoch 11/15\n",
      "\u001b[1m45227/45227\u001b[0m \u001b[32m━━━━━━━━━━━━━━━━━━━━\u001b[0m\u001b[37m\u001b[0m \u001b[1m589s\u001b[0m 11ms/step - loss: 0.0088 - val_loss: 0.0086\n",
      "Epoch 12/15\n",
      "\u001b[1m45227/45227\u001b[0m \u001b[32m━━━━━━━━━━━━━━━━━━━━\u001b[0m\u001b[37m\u001b[0m \u001b[1m645s\u001b[0m 13ms/step - loss: 0.0088 - val_loss: 0.0085\n",
      "Epoch 13/15\n",
      "\u001b[1m45227/45227\u001b[0m \u001b[32m━━━━━━━━━━━━━━━━━━━━\u001b[0m\u001b[37m\u001b[0m \u001b[1m605s\u001b[0m 12ms/step - loss: 0.0087 - val_loss: 0.0086\n",
      "Epoch 14/15\n",
      "\u001b[1m45227/45227\u001b[0m \u001b[32m━━━━━━━━━━━━━━━━━━━━\u001b[0m\u001b[37m\u001b[0m \u001b[1m1029s\u001b[0m 21ms/step - loss: 0.0087 - val_loss: 0.0085\n",
      "Epoch 15/15\n",
      "\u001b[1m17204/45227\u001b[0m \u001b[32m━━━━━━━\u001b[0m\u001b[37m━━━━━━━━━━━━━\u001b[0m \u001b[1m11:06\u001b[0m 24ms/step - loss: 0.0089"
     ]
    }
   ],
   "source": [
    "model = Sequential()\n",
    "model.add(InputLayer(shape=(1, train_generator[0][0].shape[2]), dtype=tf.float16))\n",
    "model.add(LSTM(10, activation='relu'))\n",
    "model.add(Dense(5, activation='relu'))\n",
    "model.add(Dense(3, activation='relu'))\n",
    "model.add(Dense(1))\n",
    "\n",
    "\n",
    "adam_optimizer = tf.keras.optimizers.Adam(learning_rate=0.0001)\n",
    "model.compile(optimizer='adam', loss='mean_squared_error')\n",
    "\n",
    "history = model.fit(train_generator, epochs=15, validation_data=test_generator, verbose=1)"
   ]
  },
  {
   "cell_type": "code",
   "execution_count": null,
   "id": "334a19a9",
   "metadata": {},
   "outputs": [],
   "source": [
    "model.save('Neural_network_models/1secbatch_model_v10_MINMAX.keras')\n",
    "joblib.dump(history.history, 'training_history_equil_pred_v10.pkl')"
   ]
  },
  {
   "cell_type": "code",
   "execution_count": null,
   "id": "dce22433",
   "metadata": {},
   "outputs": [],
   "source": [
    "plt.figure(figsize=(10, 6))\n",
    "plt.plot(history.history['loss'], label='Training Loss')\n",
    "plt.plot(history.history['val_loss'], label='Validation Loss')\n",
    "plt.title('Loss Over Epochs')\n",
    "plt.xlabel('Epochs')\n",
    "plt.ylabel('Loss')\n",
    "plt.legend()\n",
    "plt.grid(True)\n",
    "plt.show()"
   ]
  },
  {
   "cell_type": "code",
   "execution_count": null,
   "id": "bc6268fe",
   "metadata": {},
   "outputs": [],
   "source": []
  },
  {
   "cell_type": "code",
   "execution_count": null,
   "id": "d0f91c18",
   "metadata": {},
   "outputs": [],
   "source": []
  },
  {
   "cell_type": "code",
   "execution_count": null,
   "id": "13a52dca",
   "metadata": {},
   "outputs": [],
   "source": []
  },
  {
   "cell_type": "markdown",
   "id": "fe415697",
   "metadata": {},
   "source": [
    "## --------------- Old code below ----------------"
   ]
  },
  {
   "cell_type": "code",
   "execution_count": null,
   "id": "e3f19caf",
   "metadata": {},
   "outputs": [],
   "source": [
    "class DataGenerator(Sequence):\n",
    "    def __init__(self, training_files, batch_size=1024, scaler=None, shuffle=False):\n",
    "        self.training_files = training_files\n",
    "        self.batch_size = batch_size\n",
    "        self.scaler = scaler\n",
    "        self.shuffle = shuffle\n",
    "        self.indexes = np.arange(len(self.training_files))\n",
    "        self.current_file = None\n",
    "        self.current_file_idx = 0\n",
    "        self.data_iterator = None\n",
    "        self.on_epoch_end()\n",
    "\n",
    "    def __len__(self):\n",
    "        total_rows = sum([pd.read_csv(file, usecols=[0]).shape[0] for file in self.training_files])\n",
    "        print(total_rows)\n",
    "        return total_rows // self.batch_size\n",
    "\n",
    "    def __getitem__(self, index):\n",
    "        if self.data_iterator is None or self.current_file is None or not self.has_next_chunk():\n",
    "            self.current_file = self.training_files[self.current_file_idx]\n",
    "            self.data_iterator = pd.read_csv(self.current_file, chunksize=self.batch_size)\n",
    "            self.current_file_idx = (self.current_file_idx + 1) % len(self.training_files)\n",
    "\n",
    "        chunk = next(self.data_iterator)\n",
    "        X_batch = chunk.drop(columns=['time_of_trade', 'final_trade_price']).values\n",
    "        y_batch = chunk['final_trade_price'].values\n",
    "\n",
    "        if self.scaler:\n",
    "            X_batch = self.scaler.transform(X_batch)\n",
    "\n",
    "        X_batch = X_batch.reshape((-1, 1, X_batch.shape[1]))\n",
    "\n",
    "        return X_batch.astype(np.float16), y_batch\n",
    "    \n",
    "    def on_epoch_end(self):\n",
    "        self.current_file_idx = 0\n",
    "        self.indexes = np.arange(len(self.training_files))\n",
    "        if self.shuffle:\n",
    "            np.random.shuffle(self.indexes)\n",
    "        self.current_file = None\n",
    "        self.data_iterator = None\n",
    "\n",
    "\n",
    "    def has_next_chunk(self):\n",
    "        try:\n",
    "            _ = next(self.data_iterator)\n",
    "            self.data_iterator = pd.read_csv(self.current_file, chunksize=self.batch_size)\n",
    "            return True\n",
    "        except StopIteration:\n",
    "            return False\n"
   ]
  },
  {
   "cell_type": "markdown",
   "id": "fc8db6cb",
   "metadata": {},
   "source": [
    "Prepping the training data for input - No longer in use"
   ]
  },
  {
   "cell_type": "code",
   "execution_count": 4,
   "id": "d692f9a1",
   "metadata": {},
   "outputs": [],
   "source": [
    "X = training_data.drop(columns=['final_trade_price', 'time_of_trade'])\n",
    "y = training_data['final_trade_price']\n",
    "\n",
    "X = X.values\n",
    "y = y.values\n",
    "\n",
    "X = X.reshape((X.shape[0], 1, X.shape[1]))\n",
    "\n",
    "X_train, X_test, y_train, y_test = train_test_split(X, y, test_size=0.2, random_state=42)\n",
    "\n",
    "scaler = StandardScaler()\n",
    "X_train_2d = X_train.reshape((X_train.shape[0], X_train.shape[2]))\n",
    "X_test_2d = X_test.reshape((X_test.shape[0], X_test.shape[2]))\n",
    "\n",
    "X_train_scaled = scaler.fit_transform(X_train_2d)\n",
    "X_test_scaled = scaler.transform(X_test_2d)\n",
    "\n",
    "scaler_filename = 'scaler.joblib'\n",
    "joblib.dump(scaler, scaler_filename)\n",
    "\n",
    "X_train_scaled = X_train_scaled.reshape((X_train_scaled.shape[0], 1, X_train_scaled.shape[1]))\n",
    "X_test_scaled = X_test_scaled.reshape((X_test_scaled.shape[0], 1, X_test_scaled.shape[1]))\n",
    "\n",
    "X_train_scaled = X_train_scaled.astype(np.float16)\n",
    "X_test_scaled = X_test_scaled.astype(np.float16)"
   ]
  },
  {
   "cell_type": "code",
   "execution_count": null,
   "id": "512ad7ed",
   "metadata": {},
   "outputs": [],
   "source": []
  },
  {
   "cell_type": "markdown",
   "id": "66fcd66a",
   "metadata": {},
   "source": [
    "Building the model"
   ]
  },
  {
   "cell_type": "code",
   "execution_count": null,
   "id": "3370840c",
   "metadata": {
    "scrolled": true
   },
   "outputs": [],
   "source": [
    "model = Sequential()\n",
    "model.add(InputLayer(input_shape=(X_train_scaled.shape[1], X_train_scaled.shape[2]), dtype=tf.float16))\n",
    "model.add(LSTM(10, activation='relu'))\n",
    "model.add(Dense(5, activation='relu'))\n",
    "model.add(Dense(3, activation='relu'))\n",
    "model.add(Dense(1))\n",
    "\n",
    "model.compile(optimizer='adam', loss='mean_squared_error')\n",
    "\n",
    "history = model.fit(X_train_scaled, y_train, epochs=20, validation_split=0.2, verbose=1)\n",
    "test_loss = model.evaluate(X_test_scaled, y_test, verbose=1)"
   ]
  },
  {
   "cell_type": "markdown",
   "id": "d04c82ad",
   "metadata": {},
   "source": [
    "Save model"
   ]
  },
  {
   "cell_type": "code",
   "execution_count": null,
   "id": "3456449f",
   "metadata": {},
   "outputs": [],
   "source": [
    "model.save('Neural_network_models/1secbatch_model_v6_current_best.keras')"
   ]
  },
  {
   "cell_type": "code",
   "execution_count": null,
   "id": "06590726",
   "metadata": {},
   "outputs": [],
   "source": []
  },
  {
   "cell_type": "code",
   "execution_count": null,
   "id": "a21375fe",
   "metadata": {},
   "outputs": [],
   "source": [
    "plt.figure(figsize=(10, 6))\n",
    "plt.plot(history.history['loss'], label='Training Loss')\n",
    "plt.plot(history.history['val_loss'], label='Validation Loss')\n",
    "plt.title('Loss Over Epochs')\n",
    "plt.xlabel('Epochs')\n",
    "plt.ylabel('Loss')\n",
    "plt.legend()\n",
    "plt.grid(True)\n",
    "plt.show()"
   ]
  },
  {
   "cell_type": "code",
   "execution_count": null,
   "id": "bd35c7f5",
   "metadata": {},
   "outputs": [],
   "source": []
  },
  {
   "cell_type": "code",
   "execution_count": null,
   "id": "52cc0746",
   "metadata": {},
   "outputs": [],
   "source": []
  },
  {
   "cell_type": "code",
   "execution_count": null,
   "id": "96032ea7",
   "metadata": {},
   "outputs": [],
   "source": []
  },
  {
   "cell_type": "code",
   "execution_count": null,
   "id": "b1b42794",
   "metadata": {},
   "outputs": [],
   "source": []
  },
  {
   "cell_type": "code",
   "execution_count": null,
   "id": "d7c54e58",
   "metadata": {},
   "outputs": [],
   "source": []
  }
 ],
 "metadata": {
  "kernelspec": {
   "display_name": "Python 3 (ipykernel)",
   "language": "python",
   "name": "python3"
  },
  "language_info": {
   "codemirror_mode": {
    "name": "ipython",
    "version": 3
   },
   "file_extension": ".py",
   "mimetype": "text/x-python",
   "name": "python",
   "nbconvert_exporter": "python",
   "pygments_lexer": "ipython3",
   "version": "3.11.5"
  }
 },
 "nbformat": 4,
 "nbformat_minor": 5
}
