{
 "cells": [
  {
   "cell_type": "markdown",
   "id": "7998c36e",
   "metadata": {},
   "source": [
    "### Deep FBA Trader model creation"
   ]
  },
  {
   "cell_type": "code",
   "execution_count": 2,
   "id": "02be7394",
   "metadata": {},
   "outputs": [],
   "source": [
    "import pandas as pd\n",
    "from sklearn.model_selection import train_test_split\n",
    "from sklearn.preprocessing import StandardScaler\n",
    "import tensorflow as tf\n",
    "from tensorflow.keras.models import Sequential\n",
    "from tensorflow.keras.layers import LSTM, Dense, InputLayer\n",
    "from tensorflow.keras.utils import Sequence\n",
    "import numpy as np\n",
    "import matplotlib.pyplot as plt\n",
    "import joblib\n",
    "import os"
   ]
  },
  {
   "cell_type": "markdown",
   "id": "df5952f7",
   "metadata": {},
   "source": [
    "Combining training data into one csv file"
   ]
  },
  {
   "cell_type": "code",
   "execution_count": 3,
   "id": "68459e49",
   "metadata": {
    "scrolled": false
   },
   "outputs": [],
   "source": [
    "# Folder paths\n",
    "root_folder_path = 'C:/Users/camer/Documents/Masters Thesis/Data/Training data/'\n",
    "specific_folder = '1 sec batch full trading day'\n",
    "folder_path = os.path.join(root_folder_path, specific_folder)\n",
    "\n",
    "# Load the scaler\n",
    "scaler_filename = 'scalers/scaler_equil_predictor.joblib'\n",
    "scaler = joblib.load(scaler_filename)"
   ]
  },
  {
   "cell_type": "code",
   "execution_count": 8,
   "id": "048a950b",
   "metadata": {},
   "outputs": [
    {
     "name": "stderr",
     "output_type": "stream",
     "text": [
      "C:\\ProgramData\\anaconda3\\Lib\\site-packages\\keras\\src\\layers\\core\\input_layer.py:25: UserWarning: Argument `input_shape` is deprecated. Use `shape` instead.\n",
      "  warnings.warn(\n"
     ]
    }
   ],
   "source": [
    "model = Sequential()\n",
    "model.add(InputLayer(input_shape=(1, len(pd.read_csv(os.path.join(folder_path, os.listdir(folder_path)[0]), nrows=1).columns) - 2), dtype=tf.float16))\n",
    "model.add(LSTM(10, activation='relu'))\n",
    "model.add(Dense(5, activation='relu'))\n",
    "model.add(Dense(3, activation='relu'))\n",
    "model.add(Dense(1))\n",
    "\n",
    "adam_optimizer = tf.keras.optimizers.Adam(learning_rate=0.01)\n",
    "model.compile(optimizer=adam_optimizer, loss='mean_squared_error')\n",
    "\n",
    "# checkpoint_callback = tf.keras.callbacks.ModelCheckpoint(\n",
    "#     filepath='Neural_network_models/equil_pred_model/epoch_{epoch:02d}.keras',\n",
    "#     save_freq='epoch',\n",
    "#     save_best_only=False,\n",
    "#     verbose=1\n",
    "# )\n",
    "\n",
    "# history = model.fit(train_generator, epochs=20, validation_data=test_generator, verbose=1)"
   ]
  },
  {
   "cell_type": "code",
   "execution_count": null,
   "id": "d96ae6f3",
   "metadata": {},
   "outputs": [
    {
     "name": "stdout",
     "output_type": "stream",
     "text": [
      "Training on training_data_20240802_192647.csv\n",
      "\u001b[1m36082/36082\u001b[0m \u001b[32m━━━━━━━━━━━━━━━━━━━━\u001b[0m\u001b[37m\u001b[0m \u001b[1m193s\u001b[0m 5ms/step - loss: 465.5968 - val_loss: 361.6128\n",
      "Training on training_data_20240802_192651.csv\n",
      "\u001b[1m36136/36136\u001b[0m \u001b[32m━━━━━━━━━━━━━━━━━━━━\u001b[0m\u001b[37m\u001b[0m \u001b[1m187s\u001b[0m 5ms/step - loss: 349.4220 - val_loss: 344.4655\n",
      "Training on training_data_20240802_192654.csv\n",
      "\u001b[1m36481/36481\u001b[0m \u001b[32m━━━━━━━━━━━━━━━━━━━━\u001b[0m\u001b[37m\u001b[0m \u001b[1m194s\u001b[0m 5ms/step - loss: 344.6210 - val_loss: 344.0499\n",
      "Training on training_data_20240802_192657.csv\n",
      "\u001b[1m36288/36288\u001b[0m \u001b[32m━━━━━━━━━━━━━━━━━━━━\u001b[0m\u001b[37m\u001b[0m \u001b[1m193s\u001b[0m 5ms/step - loss: 339.9725 - val_loss: 336.7047\n",
      "Training on training_data_20240802_192701.csv\n",
      "\u001b[1m36178/36178\u001b[0m \u001b[32m━━━━━━━━━━━━━━━━━━━━\u001b[0m\u001b[37m\u001b[0m \u001b[1m180s\u001b[0m 5ms/step - loss: 348.9612 - val_loss: 345.2880\n",
      "Training on training_data_20240802_192704.csv\n",
      "\u001b[1m36118/36118\u001b[0m \u001b[32m━━━━━━━━━━━━━━━━━━━━\u001b[0m\u001b[37m\u001b[0m \u001b[1m182s\u001b[0m 5ms/step - loss: 360.7718 - val_loss: 365.3134\n",
      "Training on training_data_20240802_192708.csv\n",
      "\u001b[1m36146/36146\u001b[0m \u001b[32m━━━━━━━━━━━━━━━━━━━━\u001b[0m\u001b[37m\u001b[0m \u001b[1m190s\u001b[0m 5ms/step - loss: 350.1696 - val_loss: 346.3979\n",
      "Training on training_data_20240802_192713.csv\n",
      "\u001b[1m35992/35992\u001b[0m \u001b[32m━━━━━━━━━━━━━━━━━━━━\u001b[0m\u001b[37m\u001b[0m \u001b[1m183s\u001b[0m 5ms/step - loss: 345.6036 - val_loss: 346.3713\n",
      "Training on training_data_20240802_192717.csv\n",
      "\u001b[1m36495/36495\u001b[0m \u001b[32m━━━━━━━━━━━━━━━━━━━━\u001b[0m\u001b[37m\u001b[0m \u001b[1m186s\u001b[0m 5ms/step - loss: 353.3781 - val_loss: 357.1923\n",
      "Training on training_data_20240802_192720.csv\n",
      "\u001b[1m36004/36004\u001b[0m \u001b[32m━━━━━━━━━━━━━━━━━━━━\u001b[0m\u001b[37m\u001b[0m \u001b[1m183s\u001b[0m 5ms/step - loss: 347.2375 - val_loss: 347.5599\n",
      "Training on training_data_20240802_192722.csv\n",
      "\u001b[1m35946/35946\u001b[0m \u001b[32m━━━━━━━━━━━━━━━━━━━━\u001b[0m\u001b[37m\u001b[0m \u001b[1m182s\u001b[0m 5ms/step - loss: 347.7032 - val_loss: 343.1543\n",
      "Training on training_data_20240802_192725.csv\n",
      "\u001b[1m36153/36153\u001b[0m \u001b[32m━━━━━━━━━━━━━━━━━━━━\u001b[0m\u001b[37m\u001b[0m \u001b[1m184s\u001b[0m 5ms/step - loss: 345.4355 - val_loss: 344.5817\n",
      "Training on training_data_20240802_192728.csv\n",
      "\u001b[1m36343/36343\u001b[0m \u001b[32m━━━━━━━━━━━━━━━━━━━━\u001b[0m\u001b[37m\u001b[0m \u001b[1m183s\u001b[0m 5ms/step - loss: 340.4513 - val_loss: 338.6389\n",
      "Training on training_data_20240803_093655.csv\n",
      "\u001b[1m46946/46946\u001b[0m \u001b[32m━━━━━━━━━━━━━━━━━━━━\u001b[0m\u001b[37m\u001b[0m \u001b[1m233s\u001b[0m 5ms/step - loss: 321.3145 - val_loss: 321.4994\n",
      "Training on training_data_20240803_093657.csv\n",
      "\u001b[1m46931/46931\u001b[0m \u001b[32m━━━━━━━━━━━━━━━━━━━━\u001b[0m\u001b[37m\u001b[0m \u001b[1m241s\u001b[0m 5ms/step - loss: 327.0402 - val_loss: 326.6227\n",
      "Training on training_data_20240803_093702.csv\n",
      "\u001b[1m46561/46561\u001b[0m \u001b[32m━━━━━━━━━━━━━━━━━━━━\u001b[0m\u001b[37m\u001b[0m \u001b[1m224s\u001b[0m 5ms/step - loss: 318.4620 - val_loss: 318.2419\n",
      "Training on training_data_20240803_093711.csv\n",
      "\u001b[1m47114/47114\u001b[0m \u001b[32m━━━━━━━━━━━━━━━━━━━━\u001b[0m\u001b[37m\u001b[0m \u001b[1m226s\u001b[0m 5ms/step - loss: 317.9758 - val_loss: 316.4122\n",
      "Training on training_data_20240803_093717.csv\n",
      "\u001b[1m46678/46678\u001b[0m \u001b[32m━━━━━━━━━━━━━━━━━━━━\u001b[0m\u001b[37m\u001b[0m \u001b[1m247s\u001b[0m 5ms/step - loss: 334.3612 - val_loss: 330.7283\n",
      "Training on training_data_20240803_093722.csv\n",
      "\u001b[1m46721/46721\u001b[0m \u001b[32m━━━━━━━━━━━━━━━━━━━━\u001b[0m\u001b[37m\u001b[0m \u001b[1m238s\u001b[0m 5ms/step - loss: 330.1791 - val_loss: 327.3583\n",
      "Training on training_data_20240803_093727.csv\n",
      "\u001b[1m46764/46764\u001b[0m \u001b[32m━━━━━━━━━━━━━━━━━━━━\u001b[0m\u001b[37m\u001b[0m \u001b[1m234s\u001b[0m 5ms/step - loss: 312.6219 - val_loss: 313.4545\n",
      "Training on training_data_20240803_093730.csv\n",
      "\u001b[1m46679/46679\u001b[0m \u001b[32m━━━━━━━━━━━━━━━━━━━━\u001b[0m\u001b[37m\u001b[0m \u001b[1m244s\u001b[0m 5ms/step - loss: 336.1303 - val_loss: 334.0301\n",
      "Training on training_data_20240803_093733.csv\n",
      "\u001b[1m47302/47302\u001b[0m \u001b[32m━━━━━━━━━━━━━━━━━━━━\u001b[0m\u001b[37m\u001b[0m \u001b[1m259s\u001b[0m 5ms/step - loss: 320.9759 - val_loss: 321.6113\n",
      "Training on training_data_20240803_093738.csv\n",
      "\u001b[1m46891/46891\u001b[0m \u001b[32m━━━━━━━━━━━━━━━━━━━━\u001b[0m\u001b[37m\u001b[0m \u001b[1m261s\u001b[0m 6ms/step - loss: 340.8739 - val_loss: 342.6389\n",
      "Training on training_data_20240803_093741.csv\n",
      "\u001b[1m46798/46798\u001b[0m \u001b[32m━━━━━━━━━━━━━━━━━━━━\u001b[0m\u001b[37m\u001b[0m \u001b[1m251s\u001b[0m 5ms/step - loss: 325.8461 - val_loss: 328.0699\n",
      "Training on training_data_20240803_093745.csv\n",
      "\u001b[1m46904/46904\u001b[0m \u001b[32m━━━━━━━━━━━━━━━━━━━━\u001b[0m\u001b[37m\u001b[0m \u001b[1m254s\u001b[0m 5ms/step - loss: 337.8659 - val_loss: 336.3349\n",
      "Training on training_data_20240803_093748.csv\n",
      "\u001b[1m46751/46751\u001b[0m \u001b[32m━━━━━━━━━━━━━━━━━━━━\u001b[0m\u001b[37m\u001b[0m \u001b[1m249s\u001b[0m 5ms/step - loss: 342.1492 - val_loss: 341.5553\n",
      "Training on training_data_20240803_093752.csv\n",
      "\u001b[1m46920/46920\u001b[0m \u001b[32m━━━━━━━━━━━━━━━━━━━━\u001b[0m\u001b[37m\u001b[0m \u001b[1m242s\u001b[0m 5ms/step - loss: 328.3848 - val_loss: 329.3755\n",
      "Training on training_data_20240804_171456.csv\n",
      "\u001b[1m42843/42843\u001b[0m \u001b[32m━━━━━━━━━━━━━━━━━━━━\u001b[0m\u001b[37m\u001b[0m \u001b[1m266s\u001b[0m 6ms/step - loss: 329.8323 - val_loss: 326.0278\n",
      "Training on training_data_20240804_171507.csv\n",
      "\u001b[1m42883/42883\u001b[0m \u001b[32m━━━━━━━━━━━━━━━━━━━━\u001b[0m\u001b[37m\u001b[0m \u001b[1m230s\u001b[0m 5ms/step - loss: 336.4430 - val_loss: 336.5693\n",
      "Training on training_data_20240804_171510.csv\n",
      "\u001b[1m42642/42642\u001b[0m \u001b[32m━━━━━━━━━━━━━━━━━━━━\u001b[0m\u001b[37m\u001b[0m \u001b[1m232s\u001b[0m 5ms/step - loss: 339.4084 - val_loss: 339.2184\n",
      "Training on training_data_20240804_171513.csv\n",
      "\u001b[1m43066/43066\u001b[0m \u001b[32m━━━━━━━━━━━━━━━━━━━━\u001b[0m\u001b[37m\u001b[0m \u001b[1m225s\u001b[0m 5ms/step - loss: 324.0129 - val_loss: 324.0819\n",
      "Training on training_data_20240804_171519.csv\n",
      "\u001b[1m42858/42858\u001b[0m \u001b[32m━━━━━━━━━━━━━━━━━━━━\u001b[0m\u001b[37m\u001b[0m \u001b[1m231s\u001b[0m 5ms/step - loss: 311.2180 - val_loss: 310.1541\n",
      "Training on training_data_20240802_192647.csv\n",
      "\u001b[1m36082/36082\u001b[0m \u001b[32m━━━━━━━━━━━━━━━━━━━━\u001b[0m\u001b[37m\u001b[0m \u001b[1m204s\u001b[0m 6ms/step - loss: 341.4650 - val_loss: 342.4557\n",
      "Training on training_data_20240802_192651.csv\n",
      "\u001b[1m36136/36136\u001b[0m \u001b[32m━━━━━━━━━━━━━━━━━━━━\u001b[0m\u001b[37m\u001b[0m \u001b[1m211s\u001b[0m 6ms/step - loss: 344.7754 - val_loss: 342.2567\n",
      "Training on training_data_20240802_192654.csv\n",
      "\u001b[1m36481/36481\u001b[0m \u001b[32m━━━━━━━━━━━━━━━━━━━━\u001b[0m\u001b[37m\u001b[0m \u001b[1m191s\u001b[0m 5ms/step - loss: 341.5603 - val_loss: 341.1085\n",
      "Training on training_data_20240802_192657.csv\n",
      "\u001b[1m36288/36288\u001b[0m \u001b[32m━━━━━━━━━━━━━━━━━━━━\u001b[0m\u001b[37m\u001b[0m \u001b[1m180s\u001b[0m 5ms/step - loss: 336.3545 - val_loss: 336.1199\n",
      "Training on training_data_20240802_192701.csv\n",
      "\u001b[1m36178/36178\u001b[0m \u001b[32m━━━━━━━━━━━━━━━━━━━━\u001b[0m\u001b[37m\u001b[0m \u001b[1m182s\u001b[0m 5ms/step - loss: 345.7885 - val_loss: 348.2294\n",
      "Training on training_data_20240802_192704.csv\n",
      "\u001b[1m36118/36118\u001b[0m \u001b[32m━━━━━━━━━━━━━━━━━━━━\u001b[0m\u001b[37m\u001b[0m \u001b[1m187s\u001b[0m 5ms/step - loss: 360.4499 - val_loss: 360.5590\n",
      "Training on training_data_20240802_192708.csv\n",
      "\u001b[1m36146/36146\u001b[0m \u001b[32m━━━━━━━━━━━━━━━━━━━━\u001b[0m\u001b[37m\u001b[0m \u001b[1m192s\u001b[0m 5ms/step - loss: 346.5327 - val_loss: 347.1725\n",
      "Training on training_data_20240802_192713.csv\n",
      "\u001b[1m35992/35992\u001b[0m \u001b[32m━━━━━━━━━━━━━━━━━━━━\u001b[0m\u001b[37m\u001b[0m \u001b[1m193s\u001b[0m 5ms/step - loss: 343.4518 - val_loss: 346.9286\n",
      "Training on training_data_20240802_192717.csv\n",
      "\u001b[1m36495/36495\u001b[0m \u001b[32m━━━━━━━━━━━━━━━━━━━━\u001b[0m\u001b[37m\u001b[0m \u001b[1m225s\u001b[0m 6ms/step - loss: 352.7497 - val_loss: 350.7752\n",
      "Training on training_data_20240802_192720.csv\n",
      "\u001b[1m36004/36004\u001b[0m \u001b[32m━━━━━━━━━━━━━━━━━━━━\u001b[0m\u001b[37m\u001b[0m \u001b[1m201s\u001b[0m 6ms/step - loss: 346.4867 - val_loss: 344.5595\n",
      "Training on training_data_20240802_192722.csv\n",
      "\u001b[1m35946/35946\u001b[0m \u001b[32m━━━━━━━━━━━━━━━━━━━━\u001b[0m\u001b[37m\u001b[0m \u001b[1m198s\u001b[0m 5ms/step - loss: 345.9583 - val_loss: 341.5593\n",
      "Training on training_data_20240802_192725.csv\n",
      "\u001b[1m36153/36153\u001b[0m \u001b[32m━━━━━━━━━━━━━━━━━━━━\u001b[0m\u001b[37m\u001b[0m \u001b[1m188s\u001b[0m 5ms/step - loss: 344.6926 - val_loss: 344.7012\n",
      "Training on training_data_20240802_192728.csv\n",
      "\u001b[1m36343/36343\u001b[0m \u001b[32m━━━━━━━━━━━━━━━━━━━━\u001b[0m\u001b[37m\u001b[0m \u001b[1m199s\u001b[0m 5ms/step - loss: 338.5515 - val_loss: 340.1867\n",
      "Training on training_data_20240803_093655.csv\n",
      "\u001b[1m46946/46946\u001b[0m \u001b[32m━━━━━━━━━━━━━━━━━━━━\u001b[0m\u001b[37m\u001b[0m \u001b[1m252s\u001b[0m 5ms/step - loss: 320.3209 - val_loss: 319.4806\n",
      "Training on training_data_20240803_093657.csv\n",
      "\u001b[1m46931/46931\u001b[0m \u001b[32m━━━━━━━━━━━━━━━━━━━━\u001b[0m\u001b[37m\u001b[0m \u001b[1m270s\u001b[0m 6ms/step - loss: 326.0798 - val_loss: 329.8352\n",
      "Training on training_data_20240803_093702.csv\n",
      "\u001b[1m46561/46561\u001b[0m \u001b[32m━━━━━━━━━━━━━━━━━━━━\u001b[0m\u001b[37m\u001b[0m \u001b[1m248s\u001b[0m 5ms/step - loss: 317.3896 - val_loss: 314.9679\n",
      "Training on training_data_20240803_093711.csv\n",
      "\u001b[1m47114/47114\u001b[0m \u001b[32m━━━━━━━━━━━━━━━━━━━━\u001b[0m\u001b[37m\u001b[0m \u001b[1m242s\u001b[0m 5ms/step - loss: 315.9316 - val_loss: 314.1668\n",
      "Training on training_data_20240803_093717.csv\n"
     ]
    },
    {
     "name": "stdout",
     "output_type": "stream",
     "text": [
      "\u001b[1m46678/46678\u001b[0m \u001b[32m━━━━━━━━━━━━━━━━━━━━\u001b[0m\u001b[37m\u001b[0m \u001b[1m224s\u001b[0m 5ms/step - loss: 332.4346 - val_loss: 331.0124\n",
      "Training on training_data_20240803_093722.csv\n",
      "\u001b[1m46721/46721\u001b[0m \u001b[32m━━━━━━━━━━━━━━━━━━━━\u001b[0m\u001b[37m\u001b[0m \u001b[1m235s\u001b[0m 5ms/step - loss: 327.8800 - val_loss: 327.0521\n",
      "Training on training_data_20240803_093727.csv\n",
      "\u001b[1m46764/46764\u001b[0m \u001b[32m━━━━━━━━━━━━━━━━━━━━\u001b[0m\u001b[37m\u001b[0m \u001b[1m236s\u001b[0m 5ms/step - loss: 311.5764 - val_loss: 311.1535\n",
      "Training on training_data_20240803_093730.csv\n",
      "\u001b[1m46679/46679\u001b[0m \u001b[32m━━━━━━━━━━━━━━━━━━━━\u001b[0m\u001b[37m\u001b[0m \u001b[1m231s\u001b[0m 5ms/step - loss: 334.8799 - val_loss: 334.4203\n",
      "Training on training_data_20240803_093733.csv\n",
      "\u001b[1m32735/47302\u001b[0m \u001b[32m━━━━━━━━━━━━━\u001b[0m\u001b[37m━━━━━━━\u001b[0m \u001b[1m1:01\u001b[0m 4ms/step - loss: 320.4251"
     ]
    }
   ],
   "source": [
    "for i in range(10):\n",
    "    for filename in os.listdir(folder_path):\n",
    "        if filename.endswith(\".csv\"):\n",
    "            file_path = os.path.join(folder_path, filename)\n",
    "            print(f\"Training on {filename}\")\n",
    "\n",
    "            data = pd.read_csv(file_path)\n",
    "\n",
    "            X = data.drop(columns=['time_of_trade', 'final_trade_price']).values\n",
    "            y = data['final_trade_price'].values\n",
    "\n",
    "            X_scaled = scaler.transform(X)\n",
    "\n",
    "            X_scaled = X_scaled.reshape((X_scaled.shape[0], 1, X_scaled.shape[1]))\n",
    "\n",
    "            X_train, X_val, y_train, y_val = train_test_split(X_scaled, y, test_size=0.2, random_state=42)\n",
    "\n",
    "            model.fit(X_train, y_train, epochs=1, validation_data=(X_val, y_val), verbose=1)"
   ]
  },
  {
   "cell_type": "code",
   "execution_count": null,
   "id": "9cfec299",
   "metadata": {},
   "outputs": [],
   "source": []
  },
  {
   "cell_type": "code",
   "execution_count": null,
   "id": "1b2ead4a",
   "metadata": {},
   "outputs": [],
   "source": [
    "model.save('Neural_network_models/1secbatch_model_v6_current_best.keras')\n",
    "joblib.dump(history.history, 'training_history_equil_pred_v6.pkl')"
   ]
  },
  {
   "cell_type": "code",
   "execution_count": 8,
   "id": "86a235b0",
   "metadata": {},
   "outputs": [
    {
     "ename": "NameError",
     "evalue": "name 'history' is not defined",
     "output_type": "error",
     "traceback": [
      "\u001b[1;31m---------------------------------------------------------------------------\u001b[0m",
      "\u001b[1;31mNameError\u001b[0m                                 Traceback (most recent call last)",
      "Cell \u001b[1;32mIn[8], line 2\u001b[0m\n\u001b[0;32m      1\u001b[0m plt\u001b[38;5;241m.\u001b[39mfigure(figsize\u001b[38;5;241m=\u001b[39m(\u001b[38;5;241m10\u001b[39m, \u001b[38;5;241m6\u001b[39m))\n\u001b[1;32m----> 2\u001b[0m plt\u001b[38;5;241m.\u001b[39mplot(history\u001b[38;5;241m.\u001b[39mhistory[\u001b[38;5;124m'\u001b[39m\u001b[38;5;124mloss\u001b[39m\u001b[38;5;124m'\u001b[39m], label\u001b[38;5;241m=\u001b[39m\u001b[38;5;124m'\u001b[39m\u001b[38;5;124mTraining Loss\u001b[39m\u001b[38;5;124m'\u001b[39m)\n\u001b[0;32m      3\u001b[0m plt\u001b[38;5;241m.\u001b[39mplot(history\u001b[38;5;241m.\u001b[39mhistory[\u001b[38;5;124m'\u001b[39m\u001b[38;5;124mval_loss\u001b[39m\u001b[38;5;124m'\u001b[39m], label\u001b[38;5;241m=\u001b[39m\u001b[38;5;124m'\u001b[39m\u001b[38;5;124mValidation Loss\u001b[39m\u001b[38;5;124m'\u001b[39m)\n\u001b[0;32m      4\u001b[0m plt\u001b[38;5;241m.\u001b[39mtitle(\u001b[38;5;124m'\u001b[39m\u001b[38;5;124mLoss Over Epochs\u001b[39m\u001b[38;5;124m'\u001b[39m)\n",
      "\u001b[1;31mNameError\u001b[0m: name 'history' is not defined"
     ]
    },
    {
     "data": {
      "text/plain": [
       "<Figure size 1000x600 with 0 Axes>"
      ]
     },
     "metadata": {},
     "output_type": "display_data"
    }
   ],
   "source": [
    "plt.figure(figsize=(10, 6))\n",
    "plt.plot(history.history['loss'], label='Training Loss')\n",
    "plt.plot(history.history['val_loss'], label='Validation Loss')\n",
    "plt.title('Loss Over Epochs')\n",
    "plt.xlabel('Epochs')\n",
    "plt.ylabel('Loss')\n",
    "plt.legend()\n",
    "plt.grid(True)\n",
    "plt.show()"
   ]
  },
  {
   "cell_type": "code",
   "execution_count": null,
   "id": "09c2b57c",
   "metadata": {},
   "outputs": [],
   "source": []
  },
  {
   "cell_type": "code",
   "execution_count": null,
   "id": "ac478b6e",
   "metadata": {},
   "outputs": [],
   "source": []
  },
  {
   "cell_type": "code",
   "execution_count": null,
   "id": "ca3bb843",
   "metadata": {},
   "outputs": [],
   "source": []
  },
  {
   "cell_type": "code",
   "execution_count": null,
   "id": "fe5ce269",
   "metadata": {},
   "outputs": [],
   "source": []
  },
  {
   "cell_type": "code",
   "execution_count": null,
   "id": "26877108",
   "metadata": {},
   "outputs": [],
   "source": []
  },
  {
   "cell_type": "markdown",
   "id": "fc8db6cb",
   "metadata": {},
   "source": [
    "Prepping the training data for input - No longer in use"
   ]
  },
  {
   "cell_type": "code",
   "execution_count": 4,
   "id": "d692f9a1",
   "metadata": {},
   "outputs": [],
   "source": [
    "X = training_data.drop(columns=['final_trade_price', 'time_of_trade'])\n",
    "y = training_data['final_trade_price']\n",
    "\n",
    "X = X.values\n",
    "y = y.values\n",
    "\n",
    "X = X.reshape((X.shape[0], 1, X.shape[1]))\n",
    "\n",
    "X_train, X_test, y_train, y_test = train_test_split(X, y, test_size=0.2, random_state=42)\n",
    "\n",
    "scaler = StandardScaler()\n",
    "X_train_2d = X_train.reshape((X_train.shape[0], X_train.shape[2]))\n",
    "X_test_2d = X_test.reshape((X_test.shape[0], X_test.shape[2]))\n",
    "\n",
    "X_train_scaled = scaler.fit_transform(X_train_2d)\n",
    "X_test_scaled = scaler.transform(X_test_2d)\n",
    "\n",
    "scaler_filename = 'scaler.joblib'\n",
    "joblib.dump(scaler, scaler_filename)\n",
    "\n",
    "X_train_scaled = X_train_scaled.reshape((X_train_scaled.shape[0], 1, X_train_scaled.shape[1]))\n",
    "X_test_scaled = X_test_scaled.reshape((X_test_scaled.shape[0], 1, X_test_scaled.shape[1]))\n",
    "\n",
    "X_train_scaled = X_train_scaled.astype(np.float16)\n",
    "X_test_scaled = X_test_scaled.astype(np.float16)"
   ]
  },
  {
   "cell_type": "code",
   "execution_count": null,
   "id": "512ad7ed",
   "metadata": {},
   "outputs": [],
   "source": []
  },
  {
   "cell_type": "markdown",
   "id": "66fcd66a",
   "metadata": {},
   "source": [
    "Building the model"
   ]
  },
  {
   "cell_type": "code",
   "execution_count": null,
   "id": "3370840c",
   "metadata": {
    "scrolled": true
   },
   "outputs": [],
   "source": [
    "model = Sequential()\n",
    "model.add(InputLayer(input_shape=(X_train_scaled.shape[1], X_train_scaled.shape[2]), dtype=tf.float16))\n",
    "model.add(LSTM(10, activation='relu'))\n",
    "model.add(Dense(5, activation='relu'))\n",
    "model.add(Dense(3, activation='relu'))\n",
    "model.add(Dense(1))\n",
    "\n",
    "model.compile(optimizer='adam', loss='mean_squared_error')\n",
    "\n",
    "history = model.fit(X_train_scaled, y_train, epochs=20, validation_split=0.2, verbose=1)\n",
    "test_loss = model.evaluate(X_test_scaled, y_test, verbose=1)"
   ]
  },
  {
   "cell_type": "markdown",
   "id": "d04c82ad",
   "metadata": {},
   "source": [
    "Save model"
   ]
  },
  {
   "cell_type": "code",
   "execution_count": null,
   "id": "3456449f",
   "metadata": {},
   "outputs": [],
   "source": [
    "model.save('Neural_network_models/1secbatch_model_v6_current_best.keras')"
   ]
  },
  {
   "cell_type": "code",
   "execution_count": null,
   "id": "06590726",
   "metadata": {},
   "outputs": [],
   "source": []
  },
  {
   "cell_type": "code",
   "execution_count": null,
   "id": "a21375fe",
   "metadata": {},
   "outputs": [],
   "source": [
    "plt.figure(figsize=(10, 6))\n",
    "plt.plot(history.history['loss'], label='Training Loss')\n",
    "plt.plot(history.history['val_loss'], label='Validation Loss')\n",
    "plt.title('Loss Over Epochs')\n",
    "plt.xlabel('Epochs')\n",
    "plt.ylabel('Loss')\n",
    "plt.legend()\n",
    "plt.grid(True)\n",
    "plt.show()"
   ]
  },
  {
   "cell_type": "code",
   "execution_count": null,
   "id": "bd35c7f5",
   "metadata": {},
   "outputs": [],
   "source": []
  },
  {
   "cell_type": "code",
   "execution_count": null,
   "id": "52cc0746",
   "metadata": {},
   "outputs": [],
   "source": []
  },
  {
   "cell_type": "code",
   "execution_count": null,
   "id": "96032ea7",
   "metadata": {},
   "outputs": [],
   "source": []
  },
  {
   "cell_type": "code",
   "execution_count": null,
   "id": "b1b42794",
   "metadata": {},
   "outputs": [],
   "source": []
  },
  {
   "cell_type": "code",
   "execution_count": null,
   "id": "d7c54e58",
   "metadata": {},
   "outputs": [],
   "source": []
  }
 ],
 "metadata": {
  "kernelspec": {
   "display_name": "Python 3 (ipykernel)",
   "language": "python",
   "name": "python3"
  },
  "language_info": {
   "codemirror_mode": {
    "name": "ipython",
    "version": 3
   },
   "file_extension": ".py",
   "mimetype": "text/x-python",
   "name": "python",
   "nbconvert_exporter": "python",
   "pygments_lexer": "ipython3",
   "version": "3.11.5"
  }
 },
 "nbformat": 4,
 "nbformat_minor": 5
}
