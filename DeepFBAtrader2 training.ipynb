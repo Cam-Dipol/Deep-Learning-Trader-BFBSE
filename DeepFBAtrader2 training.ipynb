{
 "cells": [
  {
   "cell_type": "code",
   "execution_count": 2,
   "id": "2b3c68e5",
   "metadata": {},
   "outputs": [],
   "source": [
    "import pandas as pd\n",
    "from sklearn.model_selection import train_test_split\n",
    "from sklearn.preprocessing import StandardScaler\n",
    "from sklearn.preprocessing import MinMaxScaler\n",
    "import tensorflow as tf\n",
    "from tensorflow.keras.models import Sequential\n",
    "from tensorflow.keras.layers import LSTM, Dense, InputLayer\n",
    "import numpy as np\n",
    "import matplotlib.pyplot as plt\n",
    "import joblib\n",
    "import os\n",
    "from tensorflow.keras.utils import Sequence"
   ]
  },
  {
   "cell_type": "code",
   "execution_count": 3,
   "id": "fffca7c2",
   "metadata": {},
   "outputs": [],
   "source": [
    "folder_path = 'C:/Users/camer/Documents/Masters Thesis/Data/Training data/10secbatch_quotelogs'\n",
    "\n",
    "training_files = [os.path.join(folder_path, f) for f in os.listdir(folder_path) if f.endswith('.csv')]"
   ]
  },
  {
   "cell_type": "markdown",
   "id": "03aa9bf1",
   "metadata": {},
   "source": [
    "Creating a scaler based on a subset of the data"
   ]
  },
  {
   "cell_type": "code",
   "execution_count": 3,
   "id": "130d5a3e",
   "metadata": {},
   "outputs": [
    {
     "data": {
      "text/plain": [
       "['streaming_scaler_quote_log.joblib']"
      ]
     },
     "execution_count": 3,
     "metadata": {},
     "output_type": "execute_result"
    }
   ],
   "source": [
    "# scaling_file = training_files[0:4]\n",
    "# scaling_data = pd.read_csv(scaling_file)\n",
    "# X_scaling = scaling_data.drop(columns=['quote_price', 'trader_type']).values\n",
    "# scaler = StandardScaler()\n",
    "# scaler.fit(X_scaling)\n",
    "\n",
    "# joblib.dump(scaler, 'scaler_quote_1sec_v2.joblib')\n",
    "\n",
    "scaler = StandardScaler()\n",
    "\n",
    "for file in training_files:\n",
    "    for chunk in pd.read_csv(file, chunksize=4096):\n",
    "        X = chunk.drop(columns=['quote_price', 'trader_type']).values\n",
    "        scaler.partial_fit(X)\n",
    "\n",
    "scaler_filename = 'streaming_scaler_quote_log.joblib'\n",
    "joblib.dump(scaler, scaler_filename)"
   ]
  },
  {
   "cell_type": "code",
   "execution_count": null,
   "id": "77936b58",
   "metadata": {},
   "outputs": [],
   "source": [
    "input_scaler = MinMaxScaler()\n",
    "output_scaler = MinMaxScaler()\n",
    "\n",
    "for file in training_files:\n",
    "    for chunk in pd.read_csv(file, chunksize=32768):\n",
    "        chunk = chunk[(chunk['quote_price'] >= 0) & (chunk['quote_price'] <= 500)]\n",
    "        X = chunk.drop(columns=['quote_price', 'trader_type']).values\n",
    "        y = chunk[['quote_price']].values\n",
    "        input_scaler.partial_fit(X)\n",
    "        output_scaler.partial_fit(y)\n",
    "\n",
    "input_scaler_filename = 'input_scaler_quote_minmax_10secbatch.joblib'\n",
    "output_scaler_filename = 'output_scaler_quote_minmax_10_secbatch.joblib'\n",
    "joblib.dump(input_scaler, input_scaler_filename)\n",
    "joblib.dump(output_scaler, output_scaler_filename)"
   ]
  },
  {
   "cell_type": "code",
   "execution_count": 5,
   "id": "de11335c",
   "metadata": {},
   "outputs": [],
   "source": [
    "# scaler = joblib.load('scalers/scaler_quote_log_minmax.joblib')"
   ]
  },
  {
   "cell_type": "code",
   "execution_count": 13,
   "id": "133f3eed",
   "metadata": {},
   "outputs": [],
   "source": [
    "input_scaler = joblib.load('scalers/input_scaler_quote_minmax_10secbatch.joblib')\n",
    "output_scaler = joblib.load('scalers/output_scaler_quote_minmax_10secbatch.joblib')"
   ]
  },
  {
   "cell_type": "code",
   "execution_count": null,
   "id": "d0c7c818",
   "metadata": {},
   "outputs": [],
   "source": [
    "class DataGenerator(Sequence):\n",
    "    def __init__(self, training_files, batch_size=1024, scaler=None, shuffle=False):\n",
    "        self.training_files = training_files\n",
    "        self.batch_size = batch_size\n",
    "        self.scaler = scaler\n",
    "        self.shuffle = shuffle\n",
    "        self.current_file_idx = 0\n",
    "        self.load_next_file()\n",
    "\n",
    "    def load_next_file(self):\n",
    "        if self.current_file_idx >= len(self.training_files):\n",
    "            self.current_file_idx = 0\n",
    "        self.current_file = self.training_files[self.current_file_idx]\n",
    "        self.data_iterator = pd.read_csv(self.current_file, chunksize=self.batch_size)\n",
    "\n",
    "    def __len__(self):\n",
    "        total_rows = sum([pd.read_csv(file, usecols=[0]).shape[0] for file in self.training_files])\n",
    "        return total_rows // self.batch_size\n",
    "\n",
    "    def __getitem__(self, index):\n",
    "        try:\n",
    "            chunk = next(self.data_iterator)\n",
    "        except StopIteration:\n",
    "            self.current_file_idx += 1\n",
    "            self.load_next_file()\n",
    "            chunk = next(self.data_iterator)\n",
    "        chunk = chunk[chunk['quote_price'] <= 500]\n",
    "        chunk = chunk[chunk['quote_price'] >= 0]\n",
    "        X_batch = chunk.drop(columns=['quote_price', 'trader_type']).values\n",
    "        y_batch = chunk['quote_price'].values\n",
    "\n",
    "        if self.scaler:\n",
    "            X_batch = self.scaler.transform(X_batch)\n",
    "\n",
    "        X_batch = X_batch.reshape((-1, 1, X_batch.shape[1]))\n",
    "\n",
    "        return X_batch.astype(np.float16), y_batch\n",
    "\n",
    "    def on_epoch_end(self):\n",
    "        if self.shuffle:\n",
    "            np.random.shuffle(self.training_files)\n",
    "        self.current_file_idx = 0\n",
    "        self.load_next_file()"
   ]
  },
  {
   "cell_type": "code",
   "execution_count": null,
   "id": "4953f5b3",
   "metadata": {},
   "outputs": [],
   "source": [
    "class DataGenerator(Sequence):\n",
    "    def __init__(self, training_files, batch_size=1024, input_scaler=None, output_scaler=None, shuffle=False):\n",
    "        self.training_files = training_files\n",
    "        self.batch_size = batch_size\n",
    "        self.input_scaler = input_scaler\n",
    "        self.output_scaler = output_scaler\n",
    "        self.shuffle = shuffle\n",
    "        self.current_file_idx = 0\n",
    "        self.load_next_file()\n",
    "        \n",
    "    def load_next_file(self):\n",
    "        if self.current_file_idx >= len(self.training_files):\n",
    "            self.current_file_idx = 0\n",
    "        self.current_file = self.training_files[self.current_file_idx]\n",
    "        self.data_iterator = pd.read_csv(self.current_file, chunksize=self.batch_size)\n",
    "\n",
    "    def __len__(self):\n",
    "        total_rows = sum([pd.read_csv(file, usecols=[0]).shape[0] for file in self.training_files])\n",
    "        return total_rows // self.batch_size\n",
    "\n",
    "    def __getitem__(self, index):\n",
    "        try:\n",
    "            chunk = next(self.data_iterator)\n",
    "        except StopIteration:\n",
    "            self.current_file_idx += 1\n",
    "            self.load_next_file()\n",
    "            chunk = next(self.data_iterator)\n",
    "        chunk = chunk[(chunk['quote_price'] >= 0) & (chunk['quote_price'] <= 500)]\n",
    "        X_batch = chunk.drop(columns=['quote_price', 'trader_type']).values\n",
    "        y_batch = chunk['quote_price'].values\n",
    "\n",
    "        if self.input_scaler:\n",
    "            X_batch = self.input_scaler.transform(X_batch)\n",
    "        if self.output_scaler:\n",
    "            y_batch = self.output_scaler.transform(y_batch.reshape(-1, 1)).flatten()\n",
    "\n",
    "        X_batch = X_batch.reshape((-1, 1, X_batch.shape[1]))\n",
    "\n",
    "        return X_batch.astype(np.float16), y_batch.astype(np.float16)\n",
    "\n",
    "    def on_epoch_end(self):\n",
    "        if self.shuffle:\n",
    "            np.random.shuffle(self.training_files)\n",
    "        self.current_file_idx = 0\n",
    "        self.load_next_file()"
   ]
  },
  {
   "cell_type": "code",
   "execution_count": null,
   "id": "11cedac3",
   "metadata": {},
   "outputs": [],
   "source": [
    "train_files, test_files = train_test_split(training_files, test_size=0.1, random_state=42)\n",
    "\n",
    "train_generator = DataGenerator(train_files, batch_size=16384, input_scaler=input_scaler, output_scaler=output_scaler, shuffle=False)\n",
    "test_generator = DataGenerator(test_files, batch_size=16384, input_scaler=input_scaler, output_scaler=output_scaler, shuffle=False)\n",
    "\n",
    "# test_data_list = []\n",
    "\n",
    "# for test_file in test_files:\n",
    "#     test_data_sample = pd.read_csv(test_file)\n",
    "#     test_data_list.append(test_data_sample)\n",
    " \n",
    "# test_data = pd.concat(test_data_list, ignore_index=True)\n",
    "\n",
    "# X_test = test_data.drop(columns=['quote_price', 'trader_type']).values\n",
    "# y_test = test_data['quote_price'].values\n",
    "\n",
    "# X_test_scaled = scaler.transform(X_test)\n",
    "\n",
    "# X_test_scaled = X_test_scaled.reshape((X_test_scaled.shape[0], 1, X_test_scaled.shape[1]))\n"
   ]
  },
  {
   "cell_type": "code",
   "execution_count": null,
   "id": "f40b4f1d",
   "metadata": {},
   "outputs": [],
   "source": []
  },
  {
   "cell_type": "code",
   "execution_count": null,
   "id": "b74db2b3",
   "metadata": {
    "scrolled": false
   },
   "outputs": [],
   "source": [
    "model = Sequential()\n",
    "model.add(InputLayer(shape=(1, train_generator[0][0].shape[2]), dtype=tf.float16))\n",
    "model.add(LSTM(10, activation='relu'))\n",
    "model.add(Dense(5, activation='relu'))\n",
    "model.add(Dense(3, activation='relu'))\n",
    "model.add(Dense(1))\n",
    "\n",
    "adam_optimizer = tf.keras.optimizers.Adam(learning_rate=0.000015)\n",
    "model.compile(optimizer='adam', loss='mean_squared_error')\n",
    "checkpoint_callback = tf.keras.callbacks.ModelCheckpoint(\n",
    "    filepath='Neural_network_models/quote_log_model/epoch_{epoch:02d}.keras',\n",
    "    save_freq='epoch',\n",
    "    save_best_only=False,\n",
    "    verbose=1\n",
    ")\n",
    "\n",
    "history = model.fit(train_generator, epochs=30, validation_data=test_generator, verbose=1, callbacks=[checkpoint_callback])"
   ]
  },
  {
   "cell_type": "code",
   "execution_count": null,
   "id": "135e738d",
   "metadata": {},
   "outputs": [],
   "source": [
    "joblib.dump(history.history, 'training_history_quote_log_v1_10secbatch.pkl')"
   ]
  },
  {
   "cell_type": "code",
   "execution_count": null,
   "id": "bcacf691",
   "metadata": {},
   "outputs": [],
   "source": [
    "model.save('Neural_network_models/quote_log_model_1sec_v1_10secbatch.keras')"
   ]
  },
  {
   "cell_type": "code",
   "execution_count": null,
   "id": "0b3c6e92",
   "metadata": {},
   "outputs": [],
   "source": [
    "plt.figure(figsize=(10, 6))\n",
    "plt.plot(history.history['loss'], label='Training Loss')\n",
    "plt.plot(history.history['val_loss'], label='Validation Loss')\n",
    "plt.title('Loss Over Epochs')\n",
    "plt.xlabel('Epochs')\n",
    "plt.ylabel('Loss')\n",
    "plt.legend()\n",
    "plt.grid(True)\n",
    "plt.show()"
   ]
  },
  {
   "cell_type": "code",
   "execution_count": null,
   "id": "45996ddb",
   "metadata": {},
   "outputs": [],
   "source": []
  },
  {
   "cell_type": "code",
   "execution_count": null,
   "id": "5178dd1c",
   "metadata": {},
   "outputs": [],
   "source": []
  },
  {
   "cell_type": "code",
   "execution_count": null,
   "id": "743c1b27",
   "metadata": {},
   "outputs": [],
   "source": []
  },
  {
   "cell_type": "code",
   "execution_count": null,
   "id": "826b95ed",
   "metadata": {},
   "outputs": [],
   "source": []
  },
  {
   "cell_type": "code",
   "execution_count": null,
   "id": "6aaf6a74",
   "metadata": {},
   "outputs": [],
   "source": []
  },
  {
   "cell_type": "code",
   "execution_count": null,
   "id": "cf20da39",
   "metadata": {},
   "outputs": [],
   "source": []
  },
  {
   "cell_type": "code",
   "execution_count": null,
   "id": "bc96f5c1",
   "metadata": {},
   "outputs": [],
   "source": []
  },
  {
   "cell_type": "markdown",
   "id": "abbbded4",
   "metadata": {},
   "source": [
    "## Old code below"
   ]
  },
  {
   "cell_type": "code",
   "execution_count": null,
   "id": "a722bdb2",
   "metadata": {},
   "outputs": [],
   "source": [
    "class DataGenerator(Sequence):\n",
    "    def __init__(self, training_files, batch_size=1024, scaler=None, shuffle=False):\n",
    "        self.training_files = training_files\n",
    "        self.batch_size = batch_size\n",
    "        self.scaler = scaler\n",
    "        self.shuffle = shuffle\n",
    "        self.indexes = np.arange(len(self.training_files))\n",
    "        self.current_file = None\n",
    "        self.data_iterator = None\n",
    "        self.on_epoch_end()\n",
    "\n",
    "    def __len__(self):\n",
    "        total_rows = sum([pd.read_csv(file, usecols=[0]).shape[0] for file in self.training_files])\n",
    "        return int(np.ceil(total_rows / self.batch_size))\n",
    "\n",
    "    def __getitem__(self, index):\n",
    "        if self.data_iterator is None or self.current_file is None or not self.has_next_chunk():\n",
    "            self.current_file = self.training_files[self.indexes[index]]\n",
    "            self.data_iterator = pd.read_csv(self.current_file, chunksize=self.batch_size)\n",
    "\n",
    "        chunk = next(self.data_iterator)\n",
    "        X_batch = chunk.drop(columns=['quote_price', 'trader_type']).values\n",
    "        y_batch = chunk['quote_price'].values\n",
    "\n",
    "        if self.scaler:\n",
    "            X_batch = self.scaler.transform(X_batch)\n",
    "\n",
    "        X_batch = X_batch.reshape((-1, 1, X_batch.shape[1]))\n",
    "\n",
    "        return X_batch.astype(np.float16), y_batch\n",
    "    \n",
    "    def on_epoch_end(self):\n",
    "        self.indexes = np.arange(len(self.training_files))\n",
    "        if self.shuffle:\n",
    "            np.random.shuffle(self.indexes)\n",
    "        self.current_file = None\n",
    "        self.data_iterator = None\n",
    "\n",
    "    def has_next_chunk(self):\n",
    "        try:\n",
    "            _ = next(self.data_iterator)\n",
    "            self.data_iterator = pd.read_csv(self.current_file, chunksize=self.batch_size)\n",
    "            return True\n",
    "        except StopIteration:\n",
    "            return False\n"
   ]
  },
  {
   "cell_type": "code",
   "execution_count": null,
   "id": "334c479a",
   "metadata": {},
   "outputs": [],
   "source": [
    "test_loss = model.evaluate(X_test_scaled, y_test, verbose=1)\n",
    "print(f'Test Loss: {test_loss}')"
   ]
  },
  {
   "cell_type": "code",
   "execution_count": 35,
   "id": "1ffe2bb7",
   "metadata": {},
   "outputs": [
    {
     "name": "stdout",
     "output_type": "stream",
     "text": [
      "\u001b[1m923519/923519\u001b[0m \u001b[32m━━━━━━━━━━━━━━━━━━━━\u001b[0m\u001b[37m\u001b[0m \u001b[1m783s\u001b[0m 848us/step\n"
     ]
    },
    {
     "ename": "NameError",
     "evalue": "name 'mean_absolute_error' is not defined",
     "output_type": "error",
     "traceback": [
      "\u001b[1;31m---------------------------------------------------------------------------\u001b[0m",
      "\u001b[1;31mNameError\u001b[0m                                 Traceback (most recent call last)",
      "Cell \u001b[1;32mIn[35], line 2\u001b[0m\n\u001b[0;32m      1\u001b[0m y_pred \u001b[38;5;241m=\u001b[39m model\u001b[38;5;241m.\u001b[39mpredict(X_test_scaled)\n\u001b[1;32m----> 2\u001b[0m mae \u001b[38;5;241m=\u001b[39m mean_absolute_error(y_test, y_pred)\n",
      "\u001b[1;31mNameError\u001b[0m: name 'mean_absolute_error' is not defined"
     ]
    }
   ],
   "source": [
    "y_pred = model.predict(X_test_scaled)\n",
    "mae = mean_absolute_error(y_test, y_pred)"
   ]
  },
  {
   "cell_type": "code",
   "execution_count": 42,
   "id": "410c6ff2",
   "metadata": {},
   "outputs": [
    {
     "name": "stdout",
     "output_type": "stream",
     "text": [
      "Predicted: [127.69873], Actual: 98\n"
     ]
    }
   ],
   "source": [
    "print(f\"Predicted: {y_pred[10000000]}, Actual: {y_test[10000000]}\")"
   ]
  },
  {
   "cell_type": "code",
   "execution_count": null,
   "id": "a3b69bf7",
   "metadata": {},
   "outputs": [],
   "source": []
  }
 ],
 "metadata": {
  "kernelspec": {
   "display_name": "Python 3 (ipykernel)",
   "language": "python",
   "name": "python3"
  },
  "language_info": {
   "codemirror_mode": {
    "name": "ipython",
    "version": 3
   },
   "file_extension": ".py",
   "mimetype": "text/x-python",
   "name": "python",
   "nbconvert_exporter": "python",
   "pygments_lexer": "ipython3",
   "version": "3.11.5"
  }
 },
 "nbformat": 4,
 "nbformat_minor": 5
}
