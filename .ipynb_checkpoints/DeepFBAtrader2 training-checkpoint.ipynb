{
 "cells": [
  {
   "cell_type": "code",
   "execution_count": 7,
   "id": "2b3c68e5",
   "metadata": {},
   "outputs": [],
   "source": [
    "import pandas as pd\n",
    "from sklearn.model_selection import train_test_split\n",
    "from sklearn.preprocessing import StandardScaler\n",
    "import tensorflow as tf\n",
    "from tensorflow.keras.models import Sequential\n",
    "from tensorflow.keras.layers import LSTM, Dense, InputLayer\n",
    "import numpy as np\n",
    "import matplotlib.pyplot as plt\n",
    "import joblib\n",
    "import os\n",
    "from tensorflow.keras.utils import Sequence"
   ]
  },
  {
   "cell_type": "markdown",
   "id": "03aa9bf1",
   "metadata": {},
   "source": [
    "Creating a scaler based on a subset of the data"
   ]
  },
  {
   "cell_type": "code",
   "execution_count": 3,
   "id": "130d5a3e",
   "metadata": {},
   "outputs": [
    {
     "data": {
      "text/plain": [
       "['streaming_scaler_quote_log.joblib']"
      ]
     },
     "execution_count": 3,
     "metadata": {},
     "output_type": "execute_result"
    }
   ],
   "source": [
    "folder_path = 'C:/Users/camer/Documents/Masters Thesis/Data/Training data/1secbatch_quotelogs'\n",
    "\n",
    "training_files = [os.path.join(folder_path, f) for f in os.listdir(folder_path) if f.endswith('.csv')]\n",
    "\n",
    "# scaling_file = training_files[0:4]\n",
    "# scaling_data = pd.read_csv(scaling_file)\n",
    "# X_scaling = scaling_data.drop(columns=['quote_price', 'trader_type']).values\n",
    "# scaler = StandardScaler()\n",
    "# scaler.fit(X_scaling)\n",
    "\n",
    "# joblib.dump(scaler, 'scaler_quote_1sec_v2.joblib')\n",
    "\n",
    "scaler = StandardScaler()\n",
    "\n",
    "for file in training_files:\n",
    "    for chunk in pd.read_csv(file, chunksize=4096):\n",
    "        X = chunk.drop(columns=['quote_price', 'trader_type']).values\n",
    "        scaler.partial_fit(X)\n",
    "\n",
    "scaler_filename = 'streaming_scaler_quote_log.joblib'\n",
    "joblib.dump(scaler, scaler_filename)"
   ]
  },
  {
   "cell_type": "code",
   "execution_count": 10,
   "id": "f111762f",
   "metadata": {},
   "outputs": [],
   "source": [
    "scaler = joblib.load('scalers/streaming_scaler_quote_log.joblib')"
   ]
  },
  {
   "cell_type": "code",
   "execution_count": 11,
   "id": "e34d8826",
   "metadata": {},
   "outputs": [],
   "source": [
    "class DataGenerator(Sequence):\n",
    "    def __init__(self, training_files, batch_size=1024, scaler=None, shuffle=False):\n",
    "        self.training_files = training_files\n",
    "        self.batch_size = batch_size\n",
    "        self.scaler = scaler\n",
    "        self.shuffle = shuffle\n",
    "        self.indexes = np.arange(len(self.training_files))\n",
    "        self.current_file = None\n",
    "        self.data_iterator = None\n",
    "        self.on_epoch_end()\n",
    "\n",
    "    def __len__(self):\n",
    "        total_rows = sum([pd.read_csv(file, usecols=[0]).shape[0] for file in self.training_files])\n",
    "        return int(np.ceil(total_rows / self.batch_size))\n",
    "\n",
    "    def __getitem__(self, index):\n",
    "        if self.data_iterator is None or self.current_file is None or not self.has_next_chunk():\n",
    "            self.current_file = self.training_files.pop(0)\n",
    "            self.data_iterator = pd.read_csv(self.current_file, chunksize=self.batch_size)\n",
    "\n",
    "        chunk = next(self.data_iterator)\n",
    "        X_batch = chunk.drop(columns=['quote_price', 'trader_type']).values\n",
    "        y_batch = chunk['quote_price'].values\n",
    "\n",
    "        if self.scaler:\n",
    "            X_batch = self.scaler.transform(X_batch)\n",
    "\n",
    "        X_batch = X_batch.reshape((-1, 1, X_batch.shape[1]))\n",
    "\n",
    "        return X_batch.astype(np.float16), y_batch\n",
    "\n",
    "    def has_next_chunk(self):\n",
    "        try:\n",
    "            _ = next(self.data_iterator)\n",
    "            self.data_iterator = pd.read_csv(self.current_file, chunksize=self.batch_size)\n",
    "            return True\n",
    "        except StopIteration:\n",
    "            return False\n"
   ]
  },
  {
   "cell_type": "code",
   "execution_count": 12,
   "id": "11cedac3",
   "metadata": {},
   "outputs": [],
   "source": [
    "train_files, test_files = train_test_split(training_files, test_size=0.1, random_state=42)\n",
    "\n",
    "train_generator = DataGenerator(train_files, batch_size=2048, scaler=scaler, shuffle=False)\n",
    "test_generator = DataGenerator(test_files, batch_size=2048, scaler=scaler, shuffle=False)\n",
    "\n",
    "# test_data_list = []\n",
    "\n",
    "# for test_file in test_files:\n",
    "#     test_data_sample = pd.read_csv(test_file)\n",
    "#     test_data_list.append(test_data_sample)\n",
    " \n",
    "# test_data = pd.concat(test_data_list, ignore_index=True)\n",
    "\n",
    "# X_test = test_data.drop(columns=['quote_price', 'trader_type']).values\n",
    "# y_test = test_data['quote_price'].values\n",
    "\n",
    "# X_test_scaled = scaler.transform(X_test)\n",
    "\n",
    "# X_test_scaled = X_test_scaled.reshape((X_test_scaled.shape[0], 1, X_test_scaled.shape[1]))\n"
   ]
  },
  {
   "cell_type": "code",
   "execution_count": null,
   "id": "f40b4f1d",
   "metadata": {},
   "outputs": [],
   "source": []
  },
  {
   "cell_type": "code",
   "execution_count": null,
   "id": "b74db2b3",
   "metadata": {},
   "outputs": [],
   "source": [
    "model = Sequential()\n",
    "model.add(InputLayer(shape=(1, train_generator[0][0].shape[2]), dtype=tf.float16))\n",
    "model.add(LSTM(10, activation='relu'))\n",
    "model.add(Dense(5, activation='relu'))\n",
    "model.add(Dense(3, activation='relu'))\n",
    "model.add(Dense(1))\n",
    "\n",
    "model.compile(optimizer='adam', loss='mean_squared_error')\n",
    "\n",
    "checkpoint_callback = tf.keras.callbacks.ModelCheckpoint(\n",
    "    filepath='Neural_network_models/quote_log_model/epoch_{epoch:02d}.keras',\n",
    "    save_freq='epoch',\n",
    "    save_best_only=False,\n",
    "    verbose=1\n",
    ")\n",
    "\n",
    "history = model.fit(train_generator, epochs=20, validation_data=test_generator, verbose=1, callbacks=[checkpoint_callback])"
   ]
  },
  {
   "cell_type": "code",
   "execution_count": null,
   "id": "135e738d",
   "metadata": {},
   "outputs": [],
   "source": [
    "joblib.dump(history.history, 'training_history_quote_log_v3.pkl')"
   ]
  },
  {
   "cell_type": "code",
   "execution_count": 26,
   "id": "cdf26476",
   "metadata": {},
   "outputs": [
    {
     "name": "stdout",
     "output_type": "stream",
     "text": [
      "\u001b[1m923519/923519\u001b[0m \u001b[32m━━━━━━━━━━━━━━━━━━━━\u001b[0m\u001b[37m\u001b[0m \u001b[1m708s\u001b[0m 766us/step - loss: 93903.4844\n",
      "Test Loss: 100906.6015625\n"
     ]
    }
   ],
   "source": []
  },
  {
   "cell_type": "code",
   "execution_count": null,
   "id": "bcacf691",
   "metadata": {},
   "outputs": [],
   "source": [
    "model.save('Neural_network_models/quote_log_model_1sec_v3.keras')"
   ]
  },
  {
   "cell_type": "code",
   "execution_count": 6,
   "id": "0b3c6e92",
   "metadata": {},
   "outputs": [
    {
     "ename": "NameError",
     "evalue": "name 'history' is not defined",
     "output_type": "error",
     "traceback": [
      "\u001b[1;31m---------------------------------------------------------------------------\u001b[0m",
      "\u001b[1;31mNameError\u001b[0m                                 Traceback (most recent call last)",
      "Cell \u001b[1;32mIn[6], line 2\u001b[0m\n\u001b[0;32m      1\u001b[0m plt\u001b[38;5;241m.\u001b[39mfigure(figsize\u001b[38;5;241m=\u001b[39m(\u001b[38;5;241m10\u001b[39m, \u001b[38;5;241m6\u001b[39m))\n\u001b[1;32m----> 2\u001b[0m plt\u001b[38;5;241m.\u001b[39mplot(history\u001b[38;5;241m.\u001b[39mhistory[\u001b[38;5;124m'\u001b[39m\u001b[38;5;124mloss\u001b[39m\u001b[38;5;124m'\u001b[39m], label\u001b[38;5;241m=\u001b[39m\u001b[38;5;124m'\u001b[39m\u001b[38;5;124mTraining Loss\u001b[39m\u001b[38;5;124m'\u001b[39m)\n\u001b[0;32m      3\u001b[0m plt\u001b[38;5;241m.\u001b[39mplot(history\u001b[38;5;241m.\u001b[39mhistory[\u001b[38;5;124m'\u001b[39m\u001b[38;5;124mval_loss\u001b[39m\u001b[38;5;124m'\u001b[39m], label\u001b[38;5;241m=\u001b[39m\u001b[38;5;124m'\u001b[39m\u001b[38;5;124mValidation Loss\u001b[39m\u001b[38;5;124m'\u001b[39m)\n\u001b[0;32m      4\u001b[0m plt\u001b[38;5;241m.\u001b[39mtitle(\u001b[38;5;124m'\u001b[39m\u001b[38;5;124mLoss Over Epochs\u001b[39m\u001b[38;5;124m'\u001b[39m)\n",
      "\u001b[1;31mNameError\u001b[0m: name 'history' is not defined"
     ]
    },
    {
     "data": {
      "text/plain": [
       "<Figure size 1000x600 with 0 Axes>"
      ]
     },
     "metadata": {},
     "output_type": "display_data"
    }
   ],
   "source": [
    "plt.figure(figsize=(10, 6))\n",
    "plt.plot(history.history['loss'], label='Training Loss')\n",
    "plt.plot(history.history['val_loss'], label='Validation Loss')\n",
    "plt.title('Loss Over Epochs')\n",
    "plt.xlabel('Epochs')\n",
    "plt.ylabel('Loss')\n",
    "plt.legend()\n",
    "plt.grid(True)\n",
    "plt.show()"
   ]
  },
  {
   "cell_type": "code",
   "execution_count": 35,
   "id": "1ffe2bb7",
   "metadata": {},
   "outputs": [
    {
     "name": "stdout",
     "output_type": "stream",
     "text": [
      "\u001b[1m923519/923519\u001b[0m \u001b[32m━━━━━━━━━━━━━━━━━━━━\u001b[0m\u001b[37m\u001b[0m \u001b[1m783s\u001b[0m 848us/step\n"
     ]
    },
    {
     "ename": "NameError",
     "evalue": "name 'mean_absolute_error' is not defined",
     "output_type": "error",
     "traceback": [
      "\u001b[1;31m---------------------------------------------------------------------------\u001b[0m",
      "\u001b[1;31mNameError\u001b[0m                                 Traceback (most recent call last)",
      "Cell \u001b[1;32mIn[35], line 2\u001b[0m\n\u001b[0;32m      1\u001b[0m y_pred \u001b[38;5;241m=\u001b[39m model\u001b[38;5;241m.\u001b[39mpredict(X_test_scaled)\n\u001b[1;32m----> 2\u001b[0m mae \u001b[38;5;241m=\u001b[39m mean_absolute_error(y_test, y_pred)\n",
      "\u001b[1;31mNameError\u001b[0m: name 'mean_absolute_error' is not defined"
     ]
    }
   ],
   "source": [
    "y_pred = model.predict(X_test_scaled)\n",
    "mae = mean_absolute_error(y_test, y_pred)"
   ]
  },
  {
   "cell_type": "code",
   "execution_count": 42,
   "id": "410c6ff2",
   "metadata": {},
   "outputs": [
    {
     "name": "stdout",
     "output_type": "stream",
     "text": [
      "Predicted: [127.69873], Actual: 98\n"
     ]
    }
   ],
   "source": [
    "print(f\"Predicted: {y_pred[10000000]}, Actual: {y_test[10000000]}\")"
   ]
  },
  {
   "cell_type": "code",
   "execution_count": null,
   "id": "a3b69bf7",
   "metadata": {},
   "outputs": [],
   "source": []
  }
 ],
 "metadata": {
  "kernelspec": {
   "display_name": "Python 3 (ipykernel)",
   "language": "python",
   "name": "python3"
  },
  "language_info": {
   "codemirror_mode": {
    "name": "ipython",
    "version": 3
   },
   "file_extension": ".py",
   "mimetype": "text/x-python",
   "name": "python",
   "nbconvert_exporter": "python",
   "pygments_lexer": "ipython3",
   "version": "3.11.5"
  }
 },
 "nbformat": 4,
 "nbformat_minor": 5
}
