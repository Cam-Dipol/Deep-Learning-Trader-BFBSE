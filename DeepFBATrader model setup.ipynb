{
 "cells": [
  {
   "cell_type": "markdown",
   "id": "7998c36e",
   "metadata": {},
   "source": [
    "### Deep FBA Trader model creation"
   ]
  },
  {
   "cell_type": "code",
   "execution_count": 1,
   "id": "02be7394",
   "metadata": {},
   "outputs": [],
   "source": [
    "import pandas as pd\n",
    "from sklearn.model_selection import train_test_split\n",
    "from sklearn.preprocessing import StandardScaler\n",
    "import tensorflow as tf\n",
    "from tensorflow.keras.models import Sequential\n",
    "from tensorflow.keras.layers import LSTM, Dense, InputLayer\n",
    "import numpy as np\n",
    "import matplotlib.pyplot as plt\n",
    "import joblib\n",
    "import os"
   ]
  },
  {
   "cell_type": "code",
   "execution_count": null,
   "id": "68459e49",
   "metadata": {
    "scrolled": false
   },
   "outputs": [],
   "source": [
    "root_folder_path = 'C:/Users/camer/Documents/Masters Thesis/Data/Training data/'\n",
    "specific_folder = '10 sec batch full trading day'\n",
    "folder_path = root_folder_path + specific_folder\n",
    "\n",
    "data_sets = []\n",
    "\n",
    "for filename in os.listdir(folder_path):\n",
    "    if filename.endswith(\".csv\"):\n",
    "        file_path = os.path.join(folder_path, filename)\n",
    "        data_set = pd.read_csv(file_path)\n",
    "        data_sets.append(data_set)\n",
    "\n",
    "large_csv = pd.concat(data_sets, ignore_index=True)\n",
    "large_csv.to_csv(f'{folder_path}/all_data.csv', index=False)\n",
    "training_data = large_csv\n",
    "training_data"
   ]
  },
  {
   "cell_type": "code",
   "execution_count": 3,
   "id": "c2d38b80",
   "metadata": {},
   "outputs": [],
   "source": [
    "training_data = pd.read_csv('C:/Users/camer/Documents/Masters Thesis/Data/Training data/1 sec batch full trading day/all_data.csv')"
   ]
  },
  {
   "cell_type": "markdown",
   "id": "fc8db6cb",
   "metadata": {},
   "source": [
    "Prepping the training data for input"
   ]
  },
  {
   "cell_type": "code",
   "execution_count": null,
   "id": "d692f9a1",
   "metadata": {},
   "outputs": [],
   "source": [
    "X = training_data.drop(columns=['final_trade_price', 'time_of_trade'])\n",
    "y = training_data['final_trade_price']\n",
    "\n",
    "X = X.values\n",
    "y = y.values\n",
    "\n",
    "X = X.reshape((X.shape[0], 1, X.shape[1]))\n",
    "\n",
    "X_train, X_test, y_train, y_test = train_test_split(X, y, test_size=0.2, random_state=42)\n",
    "\n",
    "scaler = StandardScaler()\n",
    "X_train_2d = X_train.reshape((X_train.shape[0], X_train.shape[2]))\n",
    "X_test_2d = X_test.reshape((X_test.shape[0], X_test.shape[2]))\n",
    "\n",
    "X_train_scaled = scaler.fit_transform(X_train_2d)\n",
    "X_test_scaled = scaler.transform(X_test_2d)\n",
    "\n",
    "scaler_filename = 'scaler.joblib'\n",
    "joblib.dump(scaler, scaler_filename)\n",
    "\n",
    "X_train_scaled = X_train_scaled.reshape((X_train_scaled.shape[0], 1, X_train_scaled.shape[1]))\n",
    "X_test_scaled = X_test_scaled.reshape((X_test_scaled.shape[0], 1, X_test_scaled.shape[1]))\n",
    "\n",
    "X_train_scaled = X_train_scaled.astype(np.float16)\n",
    "X_test_scaled = X_test_scaled.astype(np.float16)"
   ]
  },
  {
   "cell_type": "code",
   "execution_count": null,
   "id": "512ad7ed",
   "metadata": {},
   "outputs": [],
   "source": []
  },
  {
   "cell_type": "markdown",
   "id": "66fcd66a",
   "metadata": {},
   "source": [
    "Building the model"
   ]
  },
  {
   "cell_type": "code",
   "execution_count": null,
   "id": "3370840c",
   "metadata": {
    "scrolled": true
   },
   "outputs": [],
   "source": [
    "model = Sequential()\n",
    "model.add(InputLayer(input_shape=(X_train_scaled.shape[1], X_train_scaled.shape[2]), dtype=tf.float16))\n",
    "model.add(LSTM(10, activation='relu'))\n",
    "model.add(Dense(5, activation='relu'))\n",
    "model.add(Dense(3, activation='relu'))\n",
    "model.add(Dense(1))\n",
    "\n",
    "model.compile(optimizer='adam', loss='mean_squared_error')\n",
    "\n",
    "history = model.fit(X_train_scaled, y_train, epochs=5, validation_split=0.2, verbose=1)\n",
    "test_loss = model.evaluate(X_test_scaled, y_test, verbose=1)"
   ]
  },
  {
   "cell_type": "markdown",
   "id": "d04c82ad",
   "metadata": {},
   "source": [
    "Save model"
   ]
  },
  {
   "cell_type": "code",
   "execution_count": null,
   "id": "3456449f",
   "metadata": {},
   "outputs": [],
   "source": [
    "model.save('Neural_network_models/10secbatch_modelv1.keras')"
   ]
  },
  {
   "cell_type": "code",
   "execution_count": null,
   "id": "06590726",
   "metadata": {},
   "outputs": [],
   "source": []
  },
  {
   "cell_type": "code",
   "execution_count": null,
   "id": "a21375fe",
   "metadata": {},
   "outputs": [],
   "source": [
    "plt.figure(figsize=(10, 6))\n",
    "plt.plot(history.history['loss'], label='Training Loss')\n",
    "plt.plot(history.history['val_loss'], label='Validation Loss')\n",
    "plt.title('Loss Over Epochs')\n",
    "plt.xlabel('Epochs')\n",
    "plt.ylabel('Loss')\n",
    "plt.legend()\n",
    "plt.grid(True)\n",
    "plt.show()"
   ]
  },
  {
   "cell_type": "code",
   "execution_count": null,
   "id": "bd35c7f5",
   "metadata": {},
   "outputs": [],
   "source": []
  },
  {
   "cell_type": "code",
   "execution_count": null,
   "id": "52cc0746",
   "metadata": {},
   "outputs": [],
   "source": []
  },
  {
   "cell_type": "code",
   "execution_count": null,
   "id": "96032ea7",
   "metadata": {},
   "outputs": [],
   "source": []
  },
  {
   "cell_type": "code",
   "execution_count": null,
   "id": "b1b42794",
   "metadata": {},
   "outputs": [],
   "source": []
  },
  {
   "cell_type": "code",
   "execution_count": null,
   "id": "d7c54e58",
   "metadata": {},
   "outputs": [],
   "source": []
  }
 ],
 "metadata": {
  "kernelspec": {
   "display_name": "Python 3 (ipykernel)",
   "language": "python",
   "name": "python3"
  },
  "language_info": {
   "codemirror_mode": {
    "name": "ipython",
    "version": 3
   },
   "file_extension": ".py",
   "mimetype": "text/x-python",
   "name": "python",
   "nbconvert_exporter": "python",
   "pygments_lexer": "ipython3",
   "version": "3.11.5"
  }
 },
 "nbformat": 4,
 "nbformat_minor": 5
}
