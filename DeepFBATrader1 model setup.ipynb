{
 "cells": [
  {
   "cell_type": "markdown",
   "id": "7998c36e",
   "metadata": {},
   "source": [
    "### Deep FBA Trader model creation"
   ]
  },
  {
   "cell_type": "code",
   "execution_count": 1,
   "id": "02be7394",
   "metadata": {},
   "outputs": [],
   "source": [
    "import pandas as pd\n",
    "from sklearn.model_selection import train_test_split\n",
    "from sklearn.preprocessing import StandardScaler\n",
    "import tensorflow as tf\n",
    "from tensorflow.keras.models import Sequential\n",
    "from tensorflow.keras.layers import LSTM, Dense, InputLayer\n",
    "from tensorflow.keras.utils import Sequence\n",
    "import numpy as np\n",
    "import matplotlib.pyplot as plt\n",
    "import joblib\n",
    "import os"
   ]
  },
  {
   "cell_type": "markdown",
   "id": "29688f88",
   "metadata": {},
   "source": [
    "Combining training data into one csv file"
   ]
  },
  {
   "cell_type": "code",
   "execution_count": null,
   "id": "68459e49",
   "metadata": {
    "scrolled": false
   },
   "outputs": [],
   "source": [
    "root_folder_path = 'C:/Users/camer/Documents/Masters Thesis/Data/Training data/'\n",
    "specific_folder = '1 sec batch full trading day'\n",
    "folder_path = root_folder_path + specific_folder\n",
    "\n",
    "data_sets = []\n",
    "\n",
    "for filename in os.listdir(folder_path):\n",
    "    if filename.endswith(\".csv\"):\n",
    "        file_path = os.path.join(folder_path, filename)\n",
    "        data_set = pd.read_csv(file_path)\n",
    "        data_sets.append(data_set)\n",
    "\n",
    "large_csv = pd.concat(data_sets, ignore_index=True)\n",
    "large_csv.to_csv(f'{folder_path}/all_data.csv', index=False)\n",
    "training_data = large_csv\n",
    "training_data"
   ]
  },
  {
   "cell_type": "markdown",
   "id": "ee0d217b",
   "metadata": {},
   "source": [
    "Fitting the scaler for normalisation"
   ]
  },
  {
   "cell_type": "code",
   "execution_count": 2,
   "id": "6d6fc538",
   "metadata": {},
   "outputs": [],
   "source": [
    "folder_path = 'C:/Users/camer/Documents/Masters Thesis/Data/Training data/1 sec batch full trading day'\n",
    "\n",
    "training_files = [os.path.join(folder_path, f) for f in os.listdir(folder_path) if f.endswith('.csv')]\n"
   ]
  },
  {
   "cell_type": "code",
   "execution_count": 14,
   "id": "c2d38b80",
   "metadata": {},
   "outputs": [
    {
     "data": {
      "text/plain": [
       "['output_scaler_equil_predictor_no_prevbatch.joblib']"
      ]
     },
     "execution_count": 14,
     "metadata": {},
     "output_type": "execute_result"
    }
   ],
   "source": [
    "input_scaler = StandardScaler()\n",
    "output_scaler = StandardScaler()\n",
    "\n",
    "for file in training_files:\n",
    "    for chunk in pd.read_csv(file, chunksize=32768):\n",
    "        X = chunk.drop(columns=['time_of_trade', 'final_trade_price']).values\n",
    "        y = chunk[['final_trade_price']].values\n",
    "        input_scaler.partial_fit(X)\n",
    "        output_scaler.partial_fit(y)\n",
    "        \n",
    "\n",
    "input_scaler_filename = 'input_scaler_equil_predictor.joblib'\n",
    "output_scaler_filename = 'output_scaler_equil_predictor.joblib'\n",
    "joblib.dump(input_scaler, input_scaler_filename)\n",
    "joblib.dump(output_scaler, output_scaler_filename)"
   ]
  },
  {
   "cell_type": "code",
   "execution_count": 3,
   "id": "35427cf3",
   "metadata": {},
   "outputs": [],
   "source": [
    "input_scaler = joblib.load('scalers/input_scaler_equil_predictor.joblib')\n",
    "output_scaler = joblib.load('scalers/output_scaler_equil_predictor.joblib')"
   ]
  },
  {
   "cell_type": "markdown",
   "id": "68d51245",
   "metadata": {},
   "source": [
    "Creating data generator class to batch data for training"
   ]
  },
  {
   "cell_type": "code",
   "execution_count": 32,
   "id": "99a4354a",
   "metadata": {},
   "outputs": [],
   "source": []
  },
  {
   "cell_type": "code",
   "execution_count": 4,
   "id": "2e885922",
   "metadata": {},
   "outputs": [],
   "source": [
    "class DataGenerator(Sequence):\n",
    "    def __init__(self, training_files, batch_size=1024, input_scaler=None, output_scaler=None, shuffle=False):\n",
    "        self.training_files = training_files\n",
    "        self.batch_size = batch_size\n",
    "        self.input_scaler = input_scaler\n",
    "        self.output_scaler = output_scaler\n",
    "        self.shuffle = shuffle\n",
    "        self.current_file_idx = 0\n",
    "        self.load_next_file()\n",
    "        \n",
    "    def load_next_file(self):\n",
    "        if self.current_file_idx >= len(self.training_files):\n",
    "            self.current_file_idx = 0\n",
    "        self.current_file = self.training_files[self.current_file_idx]\n",
    "        self.data_iterator = pd.read_csv(self.current_file, chunksize=self.batch_size)\n",
    "\n",
    "    def __len__(self):\n",
    "        total_rows = sum([pd.read_csv(file, usecols=[0]).shape[0] for file in self.training_files])\n",
    "        return total_rows // self.batch_size\n",
    "\n",
    "    def __getitem__(self, index):\n",
    "        try:\n",
    "            chunk = next(self.data_iterator)\n",
    "        except StopIteration:\n",
    "            self.current_file_idx += 1\n",
    "            self.load_next_file()\n",
    "            chunk = next(self.data_iterator)\n",
    "\n",
    "        X_batch = chunk.drop(columns=['time_of_trade', 'final_trade_price']).values\n",
    "        y_batch = chunk['final_trade_price'].values\n",
    "\n",
    "        if self.input_scaler:\n",
    "            X_batch = self.input_scaler.transform(X_batch)\n",
    "        if self.output_scaler:\n",
    "            y_batch = self.output_scaler.transform(y_batch.reshape(-1, 1)).flatten()\n",
    "\n",
    "        X_batch = X_batch.reshape((-1, 1, X_batch.shape[1]))\n",
    "\n",
    "        return X_batch.astype(np.float16), y_batch.astype(np.float16)\n",
    "\n",
    "    def on_epoch_end(self):\n",
    "        if self.shuffle:\n",
    "            np.random.shuffle(self.training_files)\n",
    "        self.current_file_idx = 0\n",
    "        self.load_next_file()"
   ]
  },
  {
   "cell_type": "code",
   "execution_count": 5,
   "id": "a8d85ea7",
   "metadata": {},
   "outputs": [],
   "source": [
    "train_files, test_files = train_test_split(training_files, test_size=0.1, random_state=42)\n",
    "\n",
    "train_generator = DataGenerator(train_files, batch_size=128, input_scaler=input_scaler, output_scaler=output_scaler, shuffle=False)\n",
    "test_generator = DataGenerator(test_files, batch_size=128, input_scaler=input_scaler, output_scaler=output_scaler, shuffle=False)\n",
    "\n",
    "# test_data_list = []\n",
    "\n",
    "# for test_file in test_files:\n",
    "#     test_data_sample = pd.read_csv(test_file)\n",
    "#     test_data_list.append(test_data_sample)\n",
    " \n",
    "# test_data = pd.concat(test_data_list, ignore_index=True)\n",
    "\n",
    "# X_test = test_data.drop(columns=['time_of_trade', 'final_trade_price']).values\n",
    "# y_test = test_data['final_trade_price'].values\n",
    "\n",
    "# X_test_scaled = scaler.transform(X_test)\n",
    "\n",
    "# X_test_scaled = X_test_scaled.reshape((X_test_scaled.shape[0], 1, X_test_scaled.shape[1]))\n"
   ]
  },
  {
   "cell_type": "code",
   "execution_count": null,
   "id": "ba00388e",
   "metadata": {},
   "outputs": [],
   "source": []
  },
  {
   "cell_type": "code",
   "execution_count": 8,
   "id": "0159bbe0",
   "metadata": {},
   "outputs": [
    {
     "ename": "ParserError",
     "evalue": "Error tokenizing data. C error: Calling read(nbytes) on source failed. Try engine='python'.",
     "output_type": "error",
     "traceback": [
      "\u001b[1;31m---------------------------------------------------------------------------\u001b[0m",
      "\u001b[1;31mParserError\u001b[0m                               Traceback (most recent call last)",
      "Cell \u001b[1;32mIn[8], line 12\u001b[0m\n\u001b[0;32m      9\u001b[0m \u001b[38;5;66;03m# adam_optimizer = tf.keras.optimizers.Adam(learning_rate=0.0001)\u001b[39;00m\n\u001b[0;32m     10\u001b[0m model\u001b[38;5;241m.\u001b[39mcompile(optimizer\u001b[38;5;241m=\u001b[39m\u001b[38;5;124m'\u001b[39m\u001b[38;5;124madam\u001b[39m\u001b[38;5;124m'\u001b[39m, loss\u001b[38;5;241m=\u001b[39m\u001b[38;5;124m'\u001b[39m\u001b[38;5;124mmean_squared_error\u001b[39m\u001b[38;5;124m'\u001b[39m)\n\u001b[1;32m---> 12\u001b[0m history \u001b[38;5;241m=\u001b[39m model\u001b[38;5;241m.\u001b[39mfit(train_generator, epochs\u001b[38;5;241m=\u001b[39m\u001b[38;5;241m10\u001b[39m, validation_data\u001b[38;5;241m=\u001b[39mtest_generator, verbose\u001b[38;5;241m=\u001b[39m\u001b[38;5;241m1\u001b[39m)\n",
      "File \u001b[1;32mC:\\ProgramData\\anaconda3\\Lib\\site-packages\\keras\\src\\utils\\traceback_utils.py:122\u001b[0m, in \u001b[0;36mfilter_traceback.<locals>.error_handler\u001b[1;34m(*args, **kwargs)\u001b[0m\n\u001b[0;32m    119\u001b[0m     filtered_tb \u001b[38;5;241m=\u001b[39m _process_traceback_frames(e\u001b[38;5;241m.\u001b[39m__traceback__)\n\u001b[0;32m    120\u001b[0m     \u001b[38;5;66;03m# To get the full stack trace, call:\u001b[39;00m\n\u001b[0;32m    121\u001b[0m     \u001b[38;5;66;03m# `keras.config.disable_traceback_filtering()`\u001b[39;00m\n\u001b[1;32m--> 122\u001b[0m     \u001b[38;5;28;01mraise\u001b[39;00m e\u001b[38;5;241m.\u001b[39mwith_traceback(filtered_tb) \u001b[38;5;28;01mfrom\u001b[39;00m \u001b[38;5;28;01mNone\u001b[39;00m\n\u001b[0;32m    123\u001b[0m \u001b[38;5;28;01mfinally\u001b[39;00m:\n\u001b[0;32m    124\u001b[0m     \u001b[38;5;28;01mdel\u001b[39;00m filtered_tb\n",
      "Cell \u001b[1;32mIn[4], line 18\u001b[0m, in \u001b[0;36mDataGenerator.__len__\u001b[1;34m(self)\u001b[0m\n\u001b[0;32m     17\u001b[0m \u001b[38;5;28;01mdef\u001b[39;00m \u001b[38;5;21m__len__\u001b[39m(\u001b[38;5;28mself\u001b[39m):\n\u001b[1;32m---> 18\u001b[0m     total_rows \u001b[38;5;241m=\u001b[39m \u001b[38;5;28msum\u001b[39m([pd\u001b[38;5;241m.\u001b[39mread_csv(file, usecols\u001b[38;5;241m=\u001b[39m[\u001b[38;5;241m0\u001b[39m])\u001b[38;5;241m.\u001b[39mshape[\u001b[38;5;241m0\u001b[39m] \u001b[38;5;28;01mfor\u001b[39;00m file \u001b[38;5;129;01min\u001b[39;00m \u001b[38;5;28mself\u001b[39m\u001b[38;5;241m.\u001b[39mtraining_files])\n\u001b[0;32m     19\u001b[0m     \u001b[38;5;28;01mreturn\u001b[39;00m total_rows \u001b[38;5;241m/\u001b[39m\u001b[38;5;241m/\u001b[39m \u001b[38;5;28mself\u001b[39m\u001b[38;5;241m.\u001b[39mbatch_size\n",
      "Cell \u001b[1;32mIn[4], line 18\u001b[0m, in \u001b[0;36m<listcomp>\u001b[1;34m(.0)\u001b[0m\n\u001b[0;32m     17\u001b[0m \u001b[38;5;28;01mdef\u001b[39;00m \u001b[38;5;21m__len__\u001b[39m(\u001b[38;5;28mself\u001b[39m):\n\u001b[1;32m---> 18\u001b[0m     total_rows \u001b[38;5;241m=\u001b[39m \u001b[38;5;28msum\u001b[39m([pd\u001b[38;5;241m.\u001b[39mread_csv(file, usecols\u001b[38;5;241m=\u001b[39m[\u001b[38;5;241m0\u001b[39m])\u001b[38;5;241m.\u001b[39mshape[\u001b[38;5;241m0\u001b[39m] \u001b[38;5;28;01mfor\u001b[39;00m file \u001b[38;5;129;01min\u001b[39;00m \u001b[38;5;28mself\u001b[39m\u001b[38;5;241m.\u001b[39mtraining_files])\n\u001b[0;32m     19\u001b[0m     \u001b[38;5;28;01mreturn\u001b[39;00m total_rows \u001b[38;5;241m/\u001b[39m\u001b[38;5;241m/\u001b[39m \u001b[38;5;28mself\u001b[39m\u001b[38;5;241m.\u001b[39mbatch_size\n",
      "File \u001b[1;32mC:\\ProgramData\\anaconda3\\Lib\\site-packages\\pandas\\io\\parsers\\readers.py:912\u001b[0m, in \u001b[0;36mread_csv\u001b[1;34m(filepath_or_buffer, sep, delimiter, header, names, index_col, usecols, dtype, engine, converters, true_values, false_values, skipinitialspace, skiprows, skipfooter, nrows, na_values, keep_default_na, na_filter, verbose, skip_blank_lines, parse_dates, infer_datetime_format, keep_date_col, date_parser, date_format, dayfirst, cache_dates, iterator, chunksize, compression, thousands, decimal, lineterminator, quotechar, quoting, doublequote, escapechar, comment, encoding, encoding_errors, dialect, on_bad_lines, delim_whitespace, low_memory, memory_map, float_precision, storage_options, dtype_backend)\u001b[0m\n\u001b[0;32m    899\u001b[0m kwds_defaults \u001b[38;5;241m=\u001b[39m _refine_defaults_read(\n\u001b[0;32m    900\u001b[0m     dialect,\n\u001b[0;32m    901\u001b[0m     delimiter,\n\u001b[1;32m   (...)\u001b[0m\n\u001b[0;32m    908\u001b[0m     dtype_backend\u001b[38;5;241m=\u001b[39mdtype_backend,\n\u001b[0;32m    909\u001b[0m )\n\u001b[0;32m    910\u001b[0m kwds\u001b[38;5;241m.\u001b[39mupdate(kwds_defaults)\n\u001b[1;32m--> 912\u001b[0m \u001b[38;5;28;01mreturn\u001b[39;00m _read(filepath_or_buffer, kwds)\n",
      "File \u001b[1;32mC:\\ProgramData\\anaconda3\\Lib\\site-packages\\pandas\\io\\parsers\\readers.py:583\u001b[0m, in \u001b[0;36m_read\u001b[1;34m(filepath_or_buffer, kwds)\u001b[0m\n\u001b[0;32m    580\u001b[0m     \u001b[38;5;28;01mreturn\u001b[39;00m parser\n\u001b[0;32m    582\u001b[0m \u001b[38;5;28;01mwith\u001b[39;00m parser:\n\u001b[1;32m--> 583\u001b[0m     \u001b[38;5;28;01mreturn\u001b[39;00m parser\u001b[38;5;241m.\u001b[39mread(nrows)\n",
      "File \u001b[1;32mC:\\ProgramData\\anaconda3\\Lib\\site-packages\\pandas\\io\\parsers\\readers.py:1704\u001b[0m, in \u001b[0;36mTextFileReader.read\u001b[1;34m(self, nrows)\u001b[0m\n\u001b[0;32m   1697\u001b[0m nrows \u001b[38;5;241m=\u001b[39m validate_integer(\u001b[38;5;124m\"\u001b[39m\u001b[38;5;124mnrows\u001b[39m\u001b[38;5;124m\"\u001b[39m, nrows)\n\u001b[0;32m   1698\u001b[0m \u001b[38;5;28;01mtry\u001b[39;00m:\n\u001b[0;32m   1699\u001b[0m     \u001b[38;5;66;03m# error: \"ParserBase\" has no attribute \"read\"\u001b[39;00m\n\u001b[0;32m   1700\u001b[0m     (\n\u001b[0;32m   1701\u001b[0m         index,\n\u001b[0;32m   1702\u001b[0m         columns,\n\u001b[0;32m   1703\u001b[0m         col_dict,\n\u001b[1;32m-> 1704\u001b[0m     ) \u001b[38;5;241m=\u001b[39m \u001b[38;5;28mself\u001b[39m\u001b[38;5;241m.\u001b[39m_engine\u001b[38;5;241m.\u001b[39mread(  \u001b[38;5;66;03m# type: ignore[attr-defined]\u001b[39;00m\n\u001b[0;32m   1705\u001b[0m         nrows\n\u001b[0;32m   1706\u001b[0m     )\n\u001b[0;32m   1707\u001b[0m \u001b[38;5;28;01mexcept\u001b[39;00m \u001b[38;5;167;01mException\u001b[39;00m:\n\u001b[0;32m   1708\u001b[0m     \u001b[38;5;28mself\u001b[39m\u001b[38;5;241m.\u001b[39mclose()\n",
      "File \u001b[1;32mC:\\ProgramData\\anaconda3\\Lib\\site-packages\\pandas\\io\\parsers\\c_parser_wrapper.py:234\u001b[0m, in \u001b[0;36mCParserWrapper.read\u001b[1;34m(self, nrows)\u001b[0m\n\u001b[0;32m    232\u001b[0m \u001b[38;5;28;01mtry\u001b[39;00m:\n\u001b[0;32m    233\u001b[0m     \u001b[38;5;28;01mif\u001b[39;00m \u001b[38;5;28mself\u001b[39m\u001b[38;5;241m.\u001b[39mlow_memory:\n\u001b[1;32m--> 234\u001b[0m         chunks \u001b[38;5;241m=\u001b[39m \u001b[38;5;28mself\u001b[39m\u001b[38;5;241m.\u001b[39m_reader\u001b[38;5;241m.\u001b[39mread_low_memory(nrows)\n\u001b[0;32m    235\u001b[0m         \u001b[38;5;66;03m# destructive to chunks\u001b[39;00m\n\u001b[0;32m    236\u001b[0m         data \u001b[38;5;241m=\u001b[39m _concatenate_chunks(chunks)\n",
      "File \u001b[1;32mC:\\ProgramData\\anaconda3\\Lib\\site-packages\\pandas\\_libs\\parsers.pyx:814\u001b[0m, in \u001b[0;36mpandas._libs.parsers.TextReader.read_low_memory\u001b[1;34m()\u001b[0m\n",
      "File \u001b[1;32mC:\\ProgramData\\anaconda3\\Lib\\site-packages\\pandas\\_libs\\parsers.pyx:875\u001b[0m, in \u001b[0;36mpandas._libs.parsers.TextReader._read_rows\u001b[1;34m()\u001b[0m\n",
      "File \u001b[1;32mC:\\ProgramData\\anaconda3\\Lib\\site-packages\\pandas\\_libs\\parsers.pyx:850\u001b[0m, in \u001b[0;36mpandas._libs.parsers.TextReader._tokenize_rows\u001b[1;34m()\u001b[0m\n",
      "File \u001b[1;32mC:\\ProgramData\\anaconda3\\Lib\\site-packages\\pandas\\_libs\\parsers.pyx:861\u001b[0m, in \u001b[0;36mpandas._libs.parsers.TextReader._check_tokenize_status\u001b[1;34m()\u001b[0m\n",
      "File \u001b[1;32mC:\\ProgramData\\anaconda3\\Lib\\site-packages\\pandas\\_libs\\parsers.pyx:2029\u001b[0m, in \u001b[0;36mpandas._libs.parsers.raise_parser_error\u001b[1;34m()\u001b[0m\n",
      "\u001b[1;31mParserError\u001b[0m: Error tokenizing data. C error: Calling read(nbytes) on source failed. Try engine='python'."
     ]
    }
   ],
   "source": [
    "model = Sequential()\n",
    "model.add(InputLayer(shape=(1, train_generator[0][0].shape[2]), dtype=tf.float16))\n",
    "model.add(LSTM(10, activation='relu'))\n",
    "model.add(Dense(5, activation='relu'))\n",
    "model.add(Dense(3, activation='relu'))\n",
    "model.add(Dense(1))\n",
    "\n",
    "\n",
    "# adam_optimizer = tf.keras.optimizers.Adam(learning_rate=0.0001)\n",
    "model.compile(optimizer='adam', loss='mean_squared_error')\n",
    "\n",
    "history = model.fit(train_generator, epochs=10, validation_data=test_generator, verbose=1)"
   ]
  },
  {
   "cell_type": "code",
   "execution_count": 7,
   "id": "3a76a635",
   "metadata": {},
   "outputs": [
    {
     "data": {
      "text/plain": [
       "['training_history_equil_pred_v8.pkl']"
      ]
     },
     "execution_count": 7,
     "metadata": {},
     "output_type": "execute_result"
    }
   ],
   "source": [
    "model.save('Neural_network_models/1secbatch_model_v8_current_best.keras')\n",
    "joblib.dump(history.history, 'training_history_equil_pred_v8.pkl')"
   ]
  },
  {
   "cell_type": "code",
   "execution_count": 9,
   "id": "06a23599",
   "metadata": {},
   "outputs": [
    {
     "data": {
      "image/png": "[encoded data removed]",
      "text/plain": [
       "<Figure size 1000x600 with 1 Axes>"
      ]
     },
     "metadata": {},
     "output_type": "display_data"
    }
   ],
   "source": [
    "plt.figure(figsize=(10, 6))\n",
    "plt.plot(history.history['loss'], label='Training Loss')\n",
    "plt.plot(history.history['val_loss'], label='Validation Loss')\n",
    "plt.title('Loss Over Epochs')\n",
    "plt.xlabel('Epochs')\n",
    "plt.ylabel('Loss')\n",
    "plt.legend()\n",
    "plt.grid(True)\n",
    "plt.show()"
   ]
  },
  {
   "cell_type": "code",
   "execution_count": null,
   "id": "4c724c01",
   "metadata": {},
   "outputs": [],
   "source": []
  },
  {
   "cell_type": "code",
   "execution_count": null,
   "id": "acffd579",
   "metadata": {},
   "outputs": [],
   "source": []
  },
  {
   "cell_type": "code",
   "execution_count": null,
   "id": "7599e6cf",
   "metadata": {},
   "outputs": [],
   "source": []
  },
  {
   "cell_type": "markdown",
   "id": "f3b7fe9c",
   "metadata": {},
   "source": [
    "## --------------- Old code below ----------------"
   ]
  },
  {
   "cell_type": "code",
   "execution_count": null,
   "id": "c10da5a4",
   "metadata": {},
   "outputs": [],
   "source": [
    "class DataGenerator(Sequence):\n",
    "    def __init__(self, training_files, batch_size=1024, scaler=None, shuffle=False):\n",
    "        self.training_files = training_files\n",
    "        self.batch_size = batch_size\n",
    "        self.scaler = scaler\n",
    "        self.shuffle = shuffle\n",
    "        self.indexes = np.arange(len(self.training_files))\n",
    "        self.current_file = None\n",
    "        self.current_file_idx = 0\n",
    "        self.data_iterator = None\n",
    "        self.on_epoch_end()\n",
    "\n",
    "    def __len__(self):\n",
    "        total_rows = sum([pd.read_csv(file, usecols=[0]).shape[0] for file in self.training_files])\n",
    "        print(total_rows)\n",
    "        return total_rows // self.batch_size\n",
    "\n",
    "    def __getitem__(self, index):\n",
    "        if self.data_iterator is None or self.current_file is None or not self.has_next_chunk():\n",
    "            self.current_file = self.training_files[self.current_file_idx]\n",
    "            self.data_iterator = pd.read_csv(self.current_file, chunksize=self.batch_size)\n",
    "            self.current_file_idx = (self.current_file_idx + 1) % len(self.training_files)\n",
    "\n",
    "        chunk = next(self.data_iterator)\n",
    "        X_batch = chunk.drop(columns=['time_of_trade', 'final_trade_price']).values\n",
    "        y_batch = chunk['final_trade_price'].values\n",
    "\n",
    "        if self.scaler:\n",
    "            X_batch = self.scaler.transform(X_batch)\n",
    "\n",
    "        X_batch = X_batch.reshape((-1, 1, X_batch.shape[1]))\n",
    "\n",
    "        return X_batch.astype(np.float16), y_batch\n",
    "    \n",
    "    def on_epoch_end(self):\n",
    "        self.current_file_idx = 0\n",
    "        self.indexes = np.arange(len(self.training_files))\n",
    "        if self.shuffle:\n",
    "            np.random.shuffle(self.indexes)\n",
    "        self.current_file = None\n",
    "        self.data_iterator = None\n",
    "\n",
    "\n",
    "    def has_next_chunk(self):\n",
    "        try:\n",
    "            _ = next(self.data_iterator)\n",
    "            self.data_iterator = pd.read_csv(self.current_file, chunksize=self.batch_size)\n",
    "            return True\n",
    "        except StopIteration:\n",
    "            return False\n"
   ]
  },
  {
   "cell_type": "markdown",
   "id": "fc8db6cb",
   "metadata": {},
   "source": [
    "Prepping the training data for input - No longer in use"
   ]
  },
  {
   "cell_type": "code",
   "execution_count": 4,
   "id": "d692f9a1",
   "metadata": {},
   "outputs": [],
   "source": [
    "X = training_data.drop(columns=['final_trade_price', 'time_of_trade'])\n",
    "y = training_data['final_trade_price']\n",
    "\n",
    "X = X.values\n",
    "y = y.values\n",
    "\n",
    "X = X.reshape((X.shape[0], 1, X.shape[1]))\n",
    "\n",
    "X_train, X_test, y_train, y_test = train_test_split(X, y, test_size=0.2, random_state=42)\n",
    "\n",
    "scaler = StandardScaler()\n",
    "X_train_2d = X_train.reshape((X_train.shape[0], X_train.shape[2]))\n",
    "X_test_2d = X_test.reshape((X_test.shape[0], X_test.shape[2]))\n",
    "\n",
    "X_train_scaled = scaler.fit_transform(X_train_2d)\n",
    "X_test_scaled = scaler.transform(X_test_2d)\n",
    "\n",
    "scaler_filename = 'scaler.joblib'\n",
    "joblib.dump(scaler, scaler_filename)\n",
    "\n",
    "X_train_scaled = X_train_scaled.reshape((X_train_scaled.shape[0], 1, X_train_scaled.shape[1]))\n",
    "X_test_scaled = X_test_scaled.reshape((X_test_scaled.shape[0], 1, X_test_scaled.shape[1]))\n",
    "\n",
    "X_train_scaled = X_train_scaled.astype(np.float16)\n",
    "X_test_scaled = X_test_scaled.astype(np.float16)"
   ]
  },
  {
   "cell_type": "code",
   "execution_count": null,
   "id": "512ad7ed",
   "metadata": {},
   "outputs": [],
   "source": []
  },
  {
   "cell_type": "markdown",
   "id": "66fcd66a",
   "metadata": {},
   "source": [
    "Building the model"
   ]
  },
  {
   "cell_type": "code",
   "execution_count": null,
   "id": "3370840c",
   "metadata": {
    "scrolled": true
   },
   "outputs": [],
   "source": [
    "model = Sequential()\n",
    "model.add(InputLayer(input_shape=(X_train_scaled.shape[1], X_train_scaled.shape[2]), dtype=tf.float16))\n",
    "model.add(LSTM(10, activation='relu'))\n",
    "model.add(Dense(5, activation='relu'))\n",
    "model.add(Dense(3, activation='relu'))\n",
    "model.add(Dense(1))\n",
    "\n",
    "model.compile(optimizer='adam', loss='mean_squared_error')\n",
    "\n",
    "history = model.fit(X_train_scaled, y_train, epochs=20, validation_split=0.2, verbose=1)\n",
    "test_loss = model.evaluate(X_test_scaled, y_test, verbose=1)"
   ]
  },
  {
   "cell_type": "markdown",
   "id": "d04c82ad",
   "metadata": {},
   "source": [
    "Save model"
   ]
  },
  {
   "cell_type": "code",
   "execution_count": null,
   "id": "3456449f",
   "metadata": {},
   "outputs": [],
   "source": [
    "model.save('Neural_network_models/1secbatch_model_v6_current_best.keras')"
   ]
  },
  {
   "cell_type": "code",
   "execution_count": null,
   "id": "06590726",
   "metadata": {},
   "outputs": [],
   "source": []
  },
  {
   "cell_type": "code",
   "execution_count": null,
   "id": "a21375fe",
   "metadata": {},
   "outputs": [],
   "source": [
    "plt.figure(figsize=(10, 6))\n",
    "plt.plot(history.history['loss'], label='Training Loss')\n",
    "plt.plot(history.history['val_loss'], label='Validation Loss')\n",
    "plt.title('Loss Over Epochs')\n",
    "plt.xlabel('Epochs')\n",
    "plt.ylabel('Loss')\n",
    "plt.legend()\n",
    "plt.grid(True)\n",
    "plt.show()"
   ]
  },
  {
   "cell_type": "code",
   "execution_count": null,
   "id": "bd35c7f5",
   "metadata": {},
   "outputs": [],
   "source": []
  },
  {
   "cell_type": "code",
   "execution_count": null,
   "id": "52cc0746",
   "metadata": {},
   "outputs": [],
   "source": []
  },
  {
   "cell_type": "code",
   "execution_count": null,
   "id": "96032ea7",
   "metadata": {},
   "outputs": [],
   "source": []
  },
  {
   "cell_type": "code",
   "execution_count": null,
   "id": "b1b42794",
   "metadata": {},
   "outputs": [],
   "source": []
  },
  {
   "cell_type": "code",
   "execution_count": null,
   "id": "d7c54e58",
   "metadata": {},
   "outputs": [],
   "source": []
  }
 ],
 "metadata": {
  "kernelspec": {
   "display_name": "Python 3 (ipykernel)",
   "language": "python",
   "name": "python3"
  },
  "language_info": {
   "codemirror_mode": {
    "name": "ipython",
    "version": 3
   },
   "file_extension": ".py",
   "mimetype": "text/x-python",
   "name": "python",
   "nbconvert_exporter": "python",
   "pygments_lexer": "ipython3",
   "version": "3.11.5"
  }
 },
 "nbformat": 4,
 "nbformat_minor": 5
}
