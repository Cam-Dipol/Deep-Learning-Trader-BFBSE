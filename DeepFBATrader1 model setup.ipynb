{
 "cells": [
  {
   "cell_type": "markdown",
   "id": "7998c36e",
   "metadata": {},
   "source": [
    "### Deep FBA Trader model creation"
   ]
  },
  {
   "cell_type": "code",
   "execution_count": 1,
   "id": "02be7394",
   "metadata": {},
   "outputs": [],
   "source": [
    "import pandas as pd\n",
    "from sklearn.model_selection import train_test_split\n",
    "from sklearn.preprocessing import StandardScaler\n",
    "import tensorflow as tf\n",
    "from tensorflow.keras.models import Sequential\n",
    "from tensorflow.keras.layers import LSTM, Dense, InputLayer\n",
    "from tensorflow.keras.utils import Sequence\n",
    "import numpy as np\n",
    "import matplotlib.pyplot as plt\n",
    "import joblib\n",
    "import os"
   ]
  },
  {
   "cell_type": "markdown",
   "id": "5ca190f9",
   "metadata": {},
   "source": [
    "Combining training data into one csv file"
   ]
  },
  {
   "cell_type": "code",
   "execution_count": null,
   "id": "68459e49",
   "metadata": {
    "scrolled": false
   },
   "outputs": [],
   "source": [
    "root_folder_path = 'C:/Users/camer/Documents/Masters Thesis/Data/Training data/'\n",
    "specific_folder = '1 sec batch full trading day'\n",
    "folder_path = root_folder_path + specific_folder\n",
    "\n",
    "data_sets = []\n",
    "\n",
    "for filename in os.listdir(folder_path):\n",
    "    if filename.endswith(\".csv\"):\n",
    "        file_path = os.path.join(folder_path, filename)\n",
    "        data_set = pd.read_csv(file_path)\n",
    "        data_sets.append(data_set)\n",
    "\n",
    "large_csv = pd.concat(data_sets, ignore_index=True)\n",
    "large_csv.to_csv(f'{folder_path}/all_data.csv', index=False)\n",
    "training_data = large_csv\n",
    "training_data"
   ]
  },
  {
   "cell_type": "markdown",
   "id": "0cce2c56",
   "metadata": {},
   "source": [
    "Fitting the scaler for normalisation"
   ]
  },
  {
   "cell_type": "code",
   "execution_count": 2,
   "id": "60ee3291",
   "metadata": {},
   "outputs": [],
   "source": [
    "folder_path = 'C:/Users/camer/Documents/Masters Thesis/Data/Training data/1 sec batch full trading day'\n",
    "\n",
    "training_files = [os.path.join(folder_path, f) for f in os.listdir(folder_path) if f.endswith('.csv')]\n"
   ]
  },
  {
   "cell_type": "code",
   "execution_count": 3,
   "id": "c2d38b80",
   "metadata": {},
   "outputs": [
    {
     "data": {
      "text/plain": [
       "['scaler_equil_predictor.joblib']"
      ]
     },
     "execution_count": 3,
     "metadata": {},
     "output_type": "execute_result"
    }
   ],
   "source": [
    "scaler = StandardScaler()\n",
    "\n",
    "for file in training_files:\n",
    "    for chunk in pd.read_csv(file, chunksize=32768):\n",
    "        X = chunk.drop(columns=['time_of_trade', 'final_trade_price']).values\n",
    "        scaler.partial_fit(X)\n",
    "\n",
    "scaler_filename = 'scaler_equil_predictor.joblib'\n",
    "joblib.dump(scaler, scaler_filename)"
   ]
  },
  {
   "cell_type": "code",
   "execution_count": 3,
   "id": "65b060c1",
   "metadata": {},
   "outputs": [],
   "source": [
    "scaler = joblib.load('scalers/scaler_equil_predictor.joblib')"
   ]
  },
  {
   "cell_type": "markdown",
   "id": "3c288bf3",
   "metadata": {},
   "source": [
    "Creating data generator class to batch data for training"
   ]
  },
  {
   "cell_type": "code",
   "execution_count": 32,
   "id": "422b4614",
   "metadata": {},
   "outputs": [],
   "source": []
  },
  {
   "cell_type": "code",
   "execution_count": 35,
   "id": "78e37ba5",
   "metadata": {},
   "outputs": [],
   "source": [
    "class DataGenerator(Sequence):\n",
    "    def __init__(self, training_files, batch_size=1024, scaler=None, shuffle=False):\n",
    "        self.training_files = training_files\n",
    "        self.batch_size = batch_size\n",
    "        self.scaler = scaler\n",
    "        self.shuffle = shuffle\n",
    "        self.current_file_idx = 0\n",
    "        self.load_next_file()\n",
    "\n",
    "    def load_next_file(self):\n",
    "        if self.current_file_idx >= len(self.training_files):\n",
    "            self.current_file_idx = 0\n",
    "        self.current_file = self.training_files[self.current_file_idx]\n",
    "        self.data_iterator = pd.read_csv(self.current_file, chunksize=self.batch_size)\n",
    "\n",
    "    def __len__(self):\n",
    "        total_rows = sum([pd.read_csv(file, usecols=[0]).shape[0] for file in self.training_files])\n",
    "        return total_rows // self.batch_size\n",
    "\n",
    "    def __getitem__(self, index):\n",
    "        try:\n",
    "            chunk = next(self.data_iterator)\n",
    "        except StopIteration:\n",
    "            self.current_file_idx += 1\n",
    "            self.load_next_file()\n",
    "            chunk = next(self.data_iterator)\n",
    "\n",
    "        X_batch = chunk.drop(columns=['time_of_trade', 'final_trade_price']).values\n",
    "        y_batch = chunk['final_trade_price'].values\n",
    "\n",
    "        if self.scaler:\n",
    "            X_batch = self.scaler.transform(X_batch)\n",
    "\n",
    "        X_batch = X_batch.reshape((-1, 1, X_batch.shape[1]))\n",
    "\n",
    "        return X_batch.astype(np.float16), y_batch\n",
    "\n",
    "    def on_epoch_end(self):\n",
    "        if self.shuffle:\n",
    "            np.random.shuffle(self.training_files)\n",
    "        self.current_file_idx = 0\n",
    "        self.load_next_file()"
   ]
  },
  {
   "cell_type": "code",
   "execution_count": 40,
   "id": "461ff178",
   "metadata": {},
   "outputs": [],
   "source": [
    "train_files, test_files = train_test_split(training_files, test_size=0.1, random_state=42)\n",
    "\n",
    "train_generator = DataGenerator(train_files, batch_size=2048, scaler=scaler, shuffle=False)\n",
    "test_generator = DataGenerator(test_files, batch_size=2048, scaler=scaler, shuffle=False)\n",
    "\n",
    "# test_data_list = []\n",
    "\n",
    "# for test_file in test_files:\n",
    "#     test_data_sample = pd.read_csv(test_file)\n",
    "#     test_data_list.append(test_data_sample)\n",
    " \n",
    "# test_data = pd.concat(test_data_list, ignore_index=True)\n",
    "\n",
    "# X_test = test_data.drop(columns=['time_of_trade', 'final_trade_price']).values\n",
    "# y_test = test_data['final_trade_price'].values\n",
    "\n",
    "# X_test_scaled = scaler.transform(X_test)\n",
    "\n",
    "# X_test_scaled = X_test_scaled.reshape((X_test_scaled.shape[0], 1, X_test_scaled.shape[1]))\n"
   ]
  },
  {
   "cell_type": "code",
   "execution_count": null,
   "id": "2a883018",
   "metadata": {},
   "outputs": [],
   "source": []
  },
  {
   "cell_type": "code",
   "execution_count": null,
   "id": "576687b0",
   "metadata": {},
   "outputs": [
    {
     "name": "stdout",
     "output_type": "stream",
     "text": [
      "Epoch 1/20\n"
     ]
    },
    {
     "name": "stderr",
     "output_type": "stream",
     "text": [
      "C:\\ProgramData\\anaconda3\\Lib\\site-packages\\keras\\src\\trainers\\data_adapters\\py_dataset_adapter.py:121: UserWarning: Your `PyDataset` class should call `super().__init__(**kwargs)` in its constructor. `**kwargs` can include `workers`, `use_multiprocessing`, `max_queue_size`. Do not pass these arguments to `fit()`, as they will be ignored.\n",
      "  self._warn_if_super_not_called()\n"
     ]
    },
    {
     "name": "stdout",
     "output_type": "stream",
     "text": [
      "\u001b[1m22613/22613\u001b[0m \u001b[32m━━━━━━━━━━━━━━━━━━━━\u001b[0m\u001b[37m\u001b[0m \u001b[1m1350s\u001b[0m 52ms/step - loss: 9094.3857 - val_loss: 6381.9507\n",
      "Epoch 2/20\n",
      "\u001b[1m22613/22613\u001b[0m \u001b[32m━━━━━━━━━━━━━━━━━━━━\u001b[0m\u001b[37m\u001b[0m \u001b[1m1406s\u001b[0m 55ms/step - loss: 5571.3931 - val_loss: 3603.0010\n",
      "Epoch 3/20\n",
      "\u001b[1m22613/22613\u001b[0m \u001b[32m━━━━━━━━━━━━━━━━━━━━\u001b[0m\u001b[37m\u001b[0m \u001b[1m1362s\u001b[0m 52ms/step - loss: 3050.8848 - val_loss: 1814.3652\n",
      "Epoch 4/20\n",
      "\u001b[1m18049/22613\u001b[0m \u001b[32m━━━━━━━━━━━━━━━\u001b[0m\u001b[37m━━━━━\u001b[0m \u001b[1m2:06\u001b[0m 28ms/step - loss: 1558.8854"
     ]
    }
   ],
   "source": [
    "model = Sequential()\n",
    "model.add(InputLayer(shape=(1, train_generator[0][0].shape[2]), dtype=tf.float16))\n",
    "model.add(LSTM(10, activation='relu'))\n",
    "model.add(Dense(5, activation='relu'))\n",
    "model.add(Dense(3, activation='relu'))\n",
    "model.add(Dense(1))\n",
    "\n",
    "adam_optimizer = tf.keras.optimizers.Adam(learning_rate=0.001)\n",
    "model.compile(optimizer=adam_optimizer, loss='mean_squared_error')\n",
    "\n",
    "# checkpoint_callback = tf.keras.callbacks.ModelCheckpoint(\n",
    "#     filepath='Neural_network_models/equil_pred_model/epoch_{epoch:02d}.keras',\n",
    "#     save_freq='epoch',\n",
    "#     save_best_only=False,\n",
    "#     verbose=1\n",
    "# )\n",
    "\n",
    "history = model.fit(train_generator, epochs=20, validation_data=(X_test_scaled, y_test), verbose=1)"
   ]
  },
  {
   "cell_type": "code",
   "execution_count": null,
   "id": "1a02f0ab",
   "metadata": {},
   "outputs": [],
   "source": [
    "model.save('Neural_network_models/1secbatch_model_v6_current_best.keras')\n",
    "joblib.dump(history.history, 'training_history_equil_pred_v6.pkl')"
   ]
  },
  {
   "cell_type": "code",
   "execution_count": null,
   "id": "b9dd64da",
   "metadata": {},
   "outputs": [],
   "source": [
    "plt.figure(figsize=(10, 6))\n",
    "plt.plot(history.history['loss'], label='Training Loss')\n",
    "plt.plot(history.history['val_loss'], label='Validation Loss')\n",
    "plt.title('Loss Over Epochs')\n",
    "plt.xlabel('Epochs')\n",
    "plt.ylabel('Loss')\n",
    "plt.legend()\n",
    "plt.grid(True)\n",
    "plt.show()"
   ]
  },
  {
   "cell_type": "code",
   "execution_count": null,
   "id": "99b579a9",
   "metadata": {},
   "outputs": [],
   "source": []
  },
  {
   "cell_type": "code",
   "execution_count": null,
   "id": "0323f056",
   "metadata": {},
   "outputs": [],
   "source": []
  },
  {
   "cell_type": "code",
   "execution_count": null,
   "id": "c359650a",
   "metadata": {},
   "outputs": [],
   "source": []
  },
  {
   "cell_type": "markdown",
   "id": "68b23256",
   "metadata": {},
   "source": [
    "## --------------- Old code below ----------------"
   ]
  },
  {
   "cell_type": "code",
   "execution_count": null,
   "id": "e1134936",
   "metadata": {},
   "outputs": [],
   "source": [
    "class DataGenerator(Sequence):\n",
    "    def __init__(self, training_files, batch_size=1024, scaler=None, shuffle=False):\n",
    "        self.training_files = training_files\n",
    "        self.batch_size = batch_size\n",
    "        self.scaler = scaler\n",
    "        self.shuffle = shuffle\n",
    "        self.indexes = np.arange(len(self.training_files))\n",
    "        self.current_file = None\n",
    "        self.current_file_idx = 0\n",
    "        self.data_iterator = None\n",
    "        self.on_epoch_end()\n",
    "\n",
    "    def __len__(self):\n",
    "        total_rows = sum([pd.read_csv(file, usecols=[0]).shape[0] for file in self.training_files])\n",
    "        print(total_rows)\n",
    "        return total_rows // self.batch_size\n",
    "\n",
    "    def __getitem__(self, index):\n",
    "        if self.data_iterator is None or self.current_file is None or not self.has_next_chunk():\n",
    "            self.current_file = self.training_files[self.current_file_idx]\n",
    "            self.data_iterator = pd.read_csv(self.current_file, chunksize=self.batch_size)\n",
    "            self.current_file_idx = (self.current_file_idx + 1) % len(self.training_files)\n",
    "\n",
    "        chunk = next(self.data_iterator)\n",
    "        X_batch = chunk.drop(columns=['time_of_trade', 'final_trade_price']).values\n",
    "        y_batch = chunk['final_trade_price'].values\n",
    "\n",
    "        if self.scaler:\n",
    "            X_batch = self.scaler.transform(X_batch)\n",
    "\n",
    "        X_batch = X_batch.reshape((-1, 1, X_batch.shape[1]))\n",
    "\n",
    "        return X_batch.astype(np.float16), y_batch\n",
    "    \n",
    "    def on_epoch_end(self):\n",
    "        self.current_file_idx = 0\n",
    "        self.indexes = np.arange(len(self.training_files))\n",
    "        if self.shuffle:\n",
    "            np.random.shuffle(self.indexes)\n",
    "        self.current_file = None\n",
    "        self.data_iterator = None\n",
    "\n",
    "\n",
    "    def has_next_chunk(self):\n",
    "        try:\n",
    "            _ = next(self.data_iterator)\n",
    "            self.data_iterator = pd.read_csv(self.current_file, chunksize=self.batch_size)\n",
    "            return True\n",
    "        except StopIteration:\n",
    "            return False\n"
   ]
  },
  {
   "cell_type": "markdown",
   "id": "fc8db6cb",
   "metadata": {},
   "source": [
    "Prepping the training data for input - No longer in use"
   ]
  },
  {
   "cell_type": "code",
   "execution_count": 4,
   "id": "d692f9a1",
   "metadata": {},
   "outputs": [],
   "source": [
    "X = training_data.drop(columns=['final_trade_price', 'time_of_trade'])\n",
    "y = training_data['final_trade_price']\n",
    "\n",
    "X = X.values\n",
    "y = y.values\n",
    "\n",
    "X = X.reshape((X.shape[0], 1, X.shape[1]))\n",
    "\n",
    "X_train, X_test, y_train, y_test = train_test_split(X, y, test_size=0.2, random_state=42)\n",
    "\n",
    "scaler = StandardScaler()\n",
    "X_train_2d = X_train.reshape((X_train.shape[0], X_train.shape[2]))\n",
    "X_test_2d = X_test.reshape((X_test.shape[0], X_test.shape[2]))\n",
    "\n",
    "X_train_scaled = scaler.fit_transform(X_train_2d)\n",
    "X_test_scaled = scaler.transform(X_test_2d)\n",
    "\n",
    "scaler_filename = 'scaler.joblib'\n",
    "joblib.dump(scaler, scaler_filename)\n",
    "\n",
    "X_train_scaled = X_train_scaled.reshape((X_train_scaled.shape[0], 1, X_train_scaled.shape[1]))\n",
    "X_test_scaled = X_test_scaled.reshape((X_test_scaled.shape[0], 1, X_test_scaled.shape[1]))\n",
    "\n",
    "X_train_scaled = X_train_scaled.astype(np.float16)\n",
    "X_test_scaled = X_test_scaled.astype(np.float16)"
   ]
  },
  {
   "cell_type": "code",
   "execution_count": null,
   "id": "512ad7ed",
   "metadata": {},
   "outputs": [],
   "source": []
  },
  {
   "cell_type": "markdown",
   "id": "66fcd66a",
   "metadata": {},
   "source": [
    "Building the model"
   ]
  },
  {
   "cell_type": "code",
   "execution_count": null,
   "id": "3370840c",
   "metadata": {
    "scrolled": true
   },
   "outputs": [],
   "source": [
    "model = Sequential()\n",
    "model.add(InputLayer(input_shape=(X_train_scaled.shape[1], X_train_scaled.shape[2]), dtype=tf.float16))\n",
    "model.add(LSTM(10, activation='relu'))\n",
    "model.add(Dense(5, activation='relu'))\n",
    "model.add(Dense(3, activation='relu'))\n",
    "model.add(Dense(1))\n",
    "\n",
    "model.compile(optimizer='adam', loss='mean_squared_error')\n",
    "\n",
    "history = model.fit(X_train_scaled, y_train, epochs=20, validation_split=0.2, verbose=1)\n",
    "test_loss = model.evaluate(X_test_scaled, y_test, verbose=1)"
   ]
  },
  {
   "cell_type": "markdown",
   "id": "d04c82ad",
   "metadata": {},
   "source": [
    "Save model"
   ]
  },
  {
   "cell_type": "code",
   "execution_count": null,
   "id": "3456449f",
   "metadata": {},
   "outputs": [],
   "source": [
    "model.save('Neural_network_models/1secbatch_model_v6_current_best.keras')"
   ]
  },
  {
   "cell_type": "code",
   "execution_count": null,
   "id": "06590726",
   "metadata": {},
   "outputs": [],
   "source": []
  },
  {
   "cell_type": "code",
   "execution_count": null,
   "id": "a21375fe",
   "metadata": {},
   "outputs": [],
   "source": [
    "plt.figure(figsize=(10, 6))\n",
    "plt.plot(history.history['loss'], label='Training Loss')\n",
    "plt.plot(history.history['val_loss'], label='Validation Loss')\n",
    "plt.title('Loss Over Epochs')\n",
    "plt.xlabel('Epochs')\n",
    "plt.ylabel('Loss')\n",
    "plt.legend()\n",
    "plt.grid(True)\n",
    "plt.show()"
   ]
  },
  {
   "cell_type": "code",
   "execution_count": null,
   "id": "bd35c7f5",
   "metadata": {},
   "outputs": [],
   "source": []
  },
  {
   "cell_type": "code",
   "execution_count": null,
   "id": "52cc0746",
   "metadata": {},
   "outputs": [],
   "source": []
  },
  {
   "cell_type": "code",
   "execution_count": null,
   "id": "96032ea7",
   "metadata": {},
   "outputs": [],
   "source": []
  },
  {
   "cell_type": "code",
   "execution_count": null,
   "id": "b1b42794",
   "metadata": {},
   "outputs": [],
   "source": []
  },
  {
   "cell_type": "code",
   "execution_count": null,
   "id": "d7c54e58",
   "metadata": {},
   "outputs": [],
   "source": []
  }
 ],
 "metadata": {
  "kernelspec": {
   "display_name": "Python 3 (ipykernel)",
   "language": "python",
   "name": "python3"
  },
  "language_info": {
   "codemirror_mode": {
    "name": "ipython",
    "version": 3
   },
   "file_extension": ".py",
   "mimetype": "text/x-python",
   "name": "python",
   "nbconvert_exporter": "python",
   "pygments_lexer": "ipython3",
   "version": "3.11.5"
  }
 },
 "nbformat": 4,
 "nbformat_minor": 5
}
